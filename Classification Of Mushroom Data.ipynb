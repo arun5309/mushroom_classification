{
 "cells": [
  {
   "cell_type": "markdown",
   "metadata": {
    "id": "wdfi2yYRmY4U"
   },
   "source": [
    "# Classification Of Mushroom Data\n",
    "\n",
    "[Dataset](https://archive.ics.uci.edu/ml/datasets/Mushroom)"
   ]
  },
  {
   "cell_type": "markdown",
   "metadata": {
    "id": "oJj3vggov9H5"
   },
   "source": [
    "## Dealing With Dependencies"
   ]
  },
  {
   "cell_type": "code",
   "execution_count": 1,
   "metadata": {
    "colab": {
     "base_uri": "https://localhost:8080/"
    },
    "id": "ddELKpi6wFUc",
    "outputId": "268b8cc6-588d-4fd1-bc58-61b4c87dad48"
   },
   "outputs": [
    {
     "name": "stdout",
     "output_type": "stream",
     "text": [
      "Requirement already satisfied: pandas in /srv/conda/envs/notebook/lib/python3.7/site-packages (1.3.5)\n",
      "Requirement already satisfied: numpy in /srv/conda/envs/notebook/lib/python3.7/site-packages (1.21.5)\n",
      "Requirement already satisfied: pandas_profiling[notebook] in /srv/conda/envs/notebook/lib/python3.7/site-packages (3.1.0)\n",
      "Requirement already satisfied: sklearn in /srv/conda/envs/notebook/lib/python3.7/site-packages (0.0)\n",
      "Requirement already satisfied: catboost in /srv/conda/envs/notebook/lib/python3.7/site-packages (1.0.4)\n",
      "Requirement already satisfied: seaborn in /srv/conda/envs/notebook/lib/python3.7/site-packages (0.11.2)\n",
      "Requirement already satisfied: matplotlib in /srv/conda/envs/notebook/lib/python3.7/site-packages (3.5.1)\n",
      "Requirement already satisfied: ipywidgets in /srv/conda/envs/notebook/lib/python3.7/site-packages (7.6.5)\n",
      "Requirement already satisfied: pytz>=2017.3 in /srv/conda/envs/notebook/lib/python3.7/site-packages (from pandas) (2021.3)\n",
      "Requirement already satisfied: python-dateutil>=2.7.3 in /srv/conda/envs/notebook/lib/python3.7/site-packages (from pandas) (2.8.2)\n",
      "Requirement already satisfied: requests>=2.24.0 in /srv/conda/envs/notebook/lib/python3.7/site-packages (from pandas_profiling[notebook]) (2.26.0)\n",
      "Requirement already satisfied: visions[type_image_path]==0.7.4 in /srv/conda/envs/notebook/lib/python3.7/site-packages (from pandas_profiling[notebook]) (0.7.4)\n",
      "Requirement already satisfied: htmlmin>=0.1.12 in /srv/conda/envs/notebook/lib/python3.7/site-packages (from pandas_profiling[notebook]) (0.1.12)\n",
      "Requirement already satisfied: joblib~=1.0.1 in /srv/conda/envs/notebook/lib/python3.7/site-packages (from pandas_profiling[notebook]) (1.0.1)\n",
      "Requirement already satisfied: missingno>=0.4.2 in /srv/conda/envs/notebook/lib/python3.7/site-packages (from pandas_profiling[notebook]) (0.5.0)\n",
      "Requirement already satisfied: scipy>=1.4.1 in /srv/conda/envs/notebook/lib/python3.7/site-packages (from pandas_profiling[notebook]) (1.7.3)\n",
      "Requirement already satisfied: multimethod>=1.4 in /srv/conda/envs/notebook/lib/python3.7/site-packages (from pandas_profiling[notebook]) (1.6)\n",
      "Requirement already satisfied: jinja2>=2.11.1 in /srv/conda/envs/notebook/lib/python3.7/site-packages (from pandas_profiling[notebook]) (3.0.3)\n",
      "Requirement already satisfied: markupsafe~=2.0.1 in /srv/conda/envs/notebook/lib/python3.7/site-packages (from pandas_profiling[notebook]) (2.0.1)\n",
      "Requirement already satisfied: tqdm>=4.48.2 in /srv/conda/envs/notebook/lib/python3.7/site-packages (from pandas_profiling[notebook]) (4.62.3)\n",
      "Requirement already satisfied: phik>=0.11.1 in /srv/conda/envs/notebook/lib/python3.7/site-packages (from pandas_profiling[notebook]) (0.12.0)\n",
      "Requirement already satisfied: tangled-up-in-unicode==0.1.0 in /srv/conda/envs/notebook/lib/python3.7/site-packages (from pandas_profiling[notebook]) (0.1.0)\n",
      "Requirement already satisfied: PyYAML>=5.0.0 in /srv/conda/envs/notebook/lib/python3.7/site-packages (from pandas_profiling[notebook]) (6.0)\n",
      "Requirement already satisfied: pydantic>=1.8.1 in /srv/conda/envs/notebook/lib/python3.7/site-packages (from pandas_profiling[notebook]) (1.9.0)\n",
      "Requirement already satisfied: jupyter-client>=6.0.0 in /srv/conda/envs/notebook/lib/python3.7/site-packages (from pandas_profiling[notebook]) (7.1.0)\n",
      "Requirement already satisfied: jupyter-core>=4.6.3 in /srv/conda/envs/notebook/lib/python3.7/site-packages (from pandas_profiling[notebook]) (4.9.1)\n",
      "Requirement already satisfied: networkx>=2.4 in /srv/conda/envs/notebook/lib/python3.7/site-packages (from visions[type_image_path]==0.7.4->pandas_profiling[notebook]) (2.6.3)\n",
      "Requirement already satisfied: attrs>=19.3.0 in /srv/conda/envs/notebook/lib/python3.7/site-packages (from visions[type_image_path]==0.7.4->pandas_profiling[notebook]) (21.2.0)\n",
      "Requirement already satisfied: imagehash in /srv/conda/envs/notebook/lib/python3.7/site-packages (from visions[type_image_path]==0.7.4->pandas_profiling[notebook]) (4.2.1)\n",
      "Requirement already satisfied: Pillow in /srv/conda/envs/notebook/lib/python3.7/site-packages (from visions[type_image_path]==0.7.4->pandas_profiling[notebook]) (9.0.0)\n",
      "Requirement already satisfied: scikit-learn in /srv/conda/envs/notebook/lib/python3.7/site-packages (from sklearn) (1.0.2)\n",
      "Requirement already satisfied: six in /srv/conda/envs/notebook/lib/python3.7/site-packages (from catboost) (1.16.0)\n",
      "Requirement already satisfied: graphviz in /srv/conda/envs/notebook/lib/python3.7/site-packages (from catboost) (0.19.1)\n",
      "Requirement already satisfied: plotly in /srv/conda/envs/notebook/lib/python3.7/site-packages (from catboost) (5.5.0)\n",
      "Requirement already satisfied: cycler>=0.10 in /srv/conda/envs/notebook/lib/python3.7/site-packages (from matplotlib) (0.11.0)\n",
      "Requirement already satisfied: packaging>=20.0 in /srv/conda/envs/notebook/lib/python3.7/site-packages (from matplotlib) (21.3)\n",
      "Requirement already satisfied: kiwisolver>=1.0.1 in /srv/conda/envs/notebook/lib/python3.7/site-packages (from matplotlib) (1.3.2)\n",
      "Requirement already satisfied: pyparsing>=2.2.1 in /srv/conda/envs/notebook/lib/python3.7/site-packages (from matplotlib) (3.0.6)\n",
      "Requirement already satisfied: fonttools>=4.22.0 in /srv/conda/envs/notebook/lib/python3.7/site-packages (from matplotlib) (4.28.5)\n",
      "Requirement already satisfied: ipykernel>=4.5.1 in /srv/conda/envs/notebook/lib/python3.7/site-packages (from ipywidgets) (6.6.0)\n",
      "Requirement already satisfied: jupyterlab-widgets>=1.0.0 in /srv/conda/envs/notebook/lib/python3.7/site-packages (from ipywidgets) (1.0.2)\n",
      "Requirement already satisfied: ipython>=4.0.0 in /srv/conda/envs/notebook/lib/python3.7/site-packages (from ipywidgets) (7.30.1)\n",
      "Requirement already satisfied: ipython-genutils~=0.2.0 in /srv/conda/envs/notebook/lib/python3.7/site-packages (from ipywidgets) (0.2.0)\n",
      "Requirement already satisfied: widgetsnbextension~=3.5.0 in /srv/conda/envs/notebook/lib/python3.7/site-packages (from ipywidgets) (3.5.2)\n",
      "Requirement already satisfied: nbformat>=4.2.0 in /srv/conda/envs/notebook/lib/python3.7/site-packages (from ipywidgets) (5.1.3)\n",
      "Requirement already satisfied: traitlets>=4.3.1 in /srv/conda/envs/notebook/lib/python3.7/site-packages (from ipywidgets) (5.1.1)\n",
      "Requirement already satisfied: importlib-metadata<5 in /srv/conda/envs/notebook/lib/python3.7/site-packages (from ipykernel>=4.5.1->ipywidgets) (4.10.0)\n",
      "Requirement already satisfied: matplotlib-inline<0.2.0,>=0.1.0 in /srv/conda/envs/notebook/lib/python3.7/site-packages (from ipykernel>=4.5.1->ipywidgets) (0.1.3)\n",
      "Requirement already satisfied: argcomplete>=1.12.3 in /srv/conda/envs/notebook/lib/python3.7/site-packages (from ipykernel>=4.5.1->ipywidgets) (1.12.3)\n",
      "Requirement already satisfied: tornado<7.0,>=4.2 in /srv/conda/envs/notebook/lib/python3.7/site-packages (from ipykernel>=4.5.1->ipywidgets) (6.1)\n",
      "Requirement already satisfied: debugpy<2.0,>=1.0.0 in /srv/conda/envs/notebook/lib/python3.7/site-packages (from ipykernel>=4.5.1->ipywidgets) (1.5.1)\n",
      "Requirement already satisfied: backcall in /srv/conda/envs/notebook/lib/python3.7/site-packages (from ipython>=4.0.0->ipywidgets) (0.2.0)\n",
      "Requirement already satisfied: pygments in /srv/conda/envs/notebook/lib/python3.7/site-packages (from ipython>=4.0.0->ipywidgets) (2.10.0)\n",
      "Requirement already satisfied: pexpect>4.3 in /srv/conda/envs/notebook/lib/python3.7/site-packages (from ipython>=4.0.0->ipywidgets) (4.8.0)\n",
      "Requirement already satisfied: setuptools>=18.5 in /srv/conda/envs/notebook/lib/python3.7/site-packages (from ipython>=4.0.0->ipywidgets) (60.0.4)\n",
      "Requirement already satisfied: prompt-toolkit!=3.0.0,!=3.0.1,<3.1.0,>=2.0.0 in /srv/conda/envs/notebook/lib/python3.7/site-packages (from ipython>=4.0.0->ipywidgets) (3.0.24)\n",
      "Requirement already satisfied: pickleshare in /srv/conda/envs/notebook/lib/python3.7/site-packages (from ipython>=4.0.0->ipywidgets) (0.7.5)\n",
      "Requirement already satisfied: decorator in /srv/conda/envs/notebook/lib/python3.7/site-packages (from ipython>=4.0.0->ipywidgets) (5.1.0)\n",
      "Requirement already satisfied: jedi>=0.16 in /srv/conda/envs/notebook/lib/python3.7/site-packages (from ipython>=4.0.0->ipywidgets) (0.18.1)\n",
      "Requirement already satisfied: nest-asyncio>=1.5 in /srv/conda/envs/notebook/lib/python3.7/site-packages (from jupyter-client>=6.0.0->pandas_profiling[notebook]) (1.5.4)\n",
      "Requirement already satisfied: pyzmq>=13 in /srv/conda/envs/notebook/lib/python3.7/site-packages (from jupyter-client>=6.0.0->pandas_profiling[notebook]) (22.3.0)\n",
      "Requirement already satisfied: entrypoints in /srv/conda/envs/notebook/lib/python3.7/site-packages (from jupyter-client>=6.0.0->pandas_profiling[notebook]) (0.3)\n",
      "Requirement already satisfied: jsonschema!=2.5.0,>=2.4 in /srv/conda/envs/notebook/lib/python3.7/site-packages (from nbformat>=4.2.0->ipywidgets) (4.3.2)\n",
      "Requirement already satisfied: typing-extensions>=3.7.4.3 in /srv/conda/envs/notebook/lib/python3.7/site-packages (from pydantic>=1.8.1->pandas_profiling[notebook]) (4.0.1)\n",
      "Requirement already satisfied: idna<4,>=2.5 in /srv/conda/envs/notebook/lib/python3.7/site-packages (from requests>=2.24.0->pandas_profiling[notebook]) (3.1)\n",
      "Requirement already satisfied: certifi>=2017.4.17 in /srv/conda/envs/notebook/lib/python3.7/site-packages (from requests>=2.24.0->pandas_profiling[notebook]) (2021.10.8)\n",
      "Requirement already satisfied: charset-normalizer~=2.0.0 in /srv/conda/envs/notebook/lib/python3.7/site-packages (from requests>=2.24.0->pandas_profiling[notebook]) (2.0.9)\n",
      "Requirement already satisfied: urllib3<1.27,>=1.21.1 in /srv/conda/envs/notebook/lib/python3.7/site-packages (from requests>=2.24.0->pandas_profiling[notebook]) (1.26.7)\n",
      "Requirement already satisfied: notebook>=4.4.1 in /srv/conda/envs/notebook/lib/python3.7/site-packages (from widgetsnbextension~=3.5.0->ipywidgets) (6.3.0)\n",
      "Requirement already satisfied: tenacity>=6.2.0 in /srv/conda/envs/notebook/lib/python3.7/site-packages (from plotly->catboost) (8.0.1)\n",
      "Requirement already satisfied: threadpoolctl>=2.0.0 in /srv/conda/envs/notebook/lib/python3.7/site-packages (from scikit-learn->sklearn) (3.0.0)\n",
      "Requirement already satisfied: zipp>=0.5 in /srv/conda/envs/notebook/lib/python3.7/site-packages (from importlib-metadata<5->ipykernel>=4.5.1->ipywidgets) (3.6.0)\n",
      "Requirement already satisfied: parso<0.9.0,>=0.8.0 in /srv/conda/envs/notebook/lib/python3.7/site-packages (from jedi>=0.16->ipython>=4.0.0->ipywidgets) (0.8.3)\n",
      "Requirement already satisfied: pyrsistent!=0.17.0,!=0.17.1,!=0.17.2,>=0.14.0 in /srv/conda/envs/notebook/lib/python3.7/site-packages (from jsonschema!=2.5.0,>=2.4->nbformat>=4.2.0->ipywidgets) (0.18.0)\n",
      "Requirement already satisfied: importlib-resources>=1.4.0 in /srv/conda/envs/notebook/lib/python3.7/site-packages (from jsonschema!=2.5.0,>=2.4->nbformat>=4.2.0->ipywidgets) (5.4.0)\n",
      "Requirement already satisfied: Send2Trash>=1.5.0 in /srv/conda/envs/notebook/lib/python3.7/site-packages (from notebook>=4.4.1->widgetsnbextension~=3.5.0->ipywidgets) (1.8.0)\n",
      "Requirement already satisfied: prometheus-client in /srv/conda/envs/notebook/lib/python3.7/site-packages (from notebook>=4.4.1->widgetsnbextension~=3.5.0->ipywidgets) (0.12.0)\n",
      "Requirement already satisfied: argon2-cffi in /srv/conda/envs/notebook/lib/python3.7/site-packages (from notebook>=4.4.1->widgetsnbextension~=3.5.0->ipywidgets) (21.1.0)\n",
      "Requirement already satisfied: terminado>=0.8.3 in /srv/conda/envs/notebook/lib/python3.7/site-packages (from notebook>=4.4.1->widgetsnbextension~=3.5.0->ipywidgets) (0.12.1)\n",
      "Requirement already satisfied: nbconvert in /srv/conda/envs/notebook/lib/python3.7/site-packages (from notebook>=4.4.1->widgetsnbextension~=3.5.0->ipywidgets) (6.0.7)\n",
      "Requirement already satisfied: ptyprocess>=0.5 in /srv/conda/envs/notebook/lib/python3.7/site-packages (from pexpect>4.3->ipython>=4.0.0->ipywidgets) (0.7.0)\n",
      "Requirement already satisfied: wcwidth in /srv/conda/envs/notebook/lib/python3.7/site-packages (from prompt-toolkit!=3.0.0,!=3.0.1,<3.1.0,>=2.0.0->ipython>=4.0.0->ipywidgets) (0.2.5)\n",
      "Requirement already satisfied: PyWavelets in /srv/conda/envs/notebook/lib/python3.7/site-packages (from imagehash->visions[type_image_path]==0.7.4->pandas_profiling[notebook]) (1.2.0)\n",
      "Requirement already satisfied: cffi>=1.0.0 in /srv/conda/envs/notebook/lib/python3.7/site-packages (from argon2-cffi->notebook>=4.4.1->widgetsnbextension~=3.5.0->ipywidgets) (1.15.0)\n",
      "Requirement already satisfied: bleach in /srv/conda/envs/notebook/lib/python3.7/site-packages (from nbconvert->notebook>=4.4.1->widgetsnbextension~=3.5.0->ipywidgets) (4.1.0)\n",
      "Requirement already satisfied: mistune<2,>=0.8.1 in /srv/conda/envs/notebook/lib/python3.7/site-packages (from nbconvert->notebook>=4.4.1->widgetsnbextension~=3.5.0->ipywidgets) (0.8.4)\n",
      "Requirement already satisfied: nbclient<0.6.0,>=0.5.0 in /srv/conda/envs/notebook/lib/python3.7/site-packages (from nbconvert->notebook>=4.4.1->widgetsnbextension~=3.5.0->ipywidgets) (0.5.9)\n",
      "Requirement already satisfied: testpath in /srv/conda/envs/notebook/lib/python3.7/site-packages (from nbconvert->notebook>=4.4.1->widgetsnbextension~=3.5.0->ipywidgets) (0.5.0)\n",
      "Requirement already satisfied: pandocfilters>=1.4.1 in /srv/conda/envs/notebook/lib/python3.7/site-packages (from nbconvert->notebook>=4.4.1->widgetsnbextension~=3.5.0->ipywidgets) (1.5.0)\n",
      "Requirement already satisfied: defusedxml in /srv/conda/envs/notebook/lib/python3.7/site-packages (from nbconvert->notebook>=4.4.1->widgetsnbextension~=3.5.0->ipywidgets) (0.7.1)\n",
      "Requirement already satisfied: jupyterlab-pygments in /srv/conda/envs/notebook/lib/python3.7/site-packages (from nbconvert->notebook>=4.4.1->widgetsnbextension~=3.5.0->ipywidgets) (0.1.2)\n",
      "Requirement already satisfied: pycparser in /srv/conda/envs/notebook/lib/python3.7/site-packages (from cffi>=1.0.0->argon2-cffi->notebook>=4.4.1->widgetsnbextension~=3.5.0->ipywidgets) (2.21)\n",
      "Requirement already satisfied: webencodings in /srv/conda/envs/notebook/lib/python3.7/site-packages (from bleach->nbconvert->notebook>=4.4.1->widgetsnbextension~=3.5.0->ipywidgets) (0.5.1)\n"
     ]
    }
   ],
   "source": [
    "!pip install -U pandas numpy pandas_profiling[notebook] sklearn catboost seaborn matplotlib ipywidgets"
   ]
  },
  {
   "cell_type": "markdown",
   "metadata": {
    "id": "FWabHE5kCMBc"
   },
   "source": [
    "## Dealing With Google Colab Issues"
   ]
  },
  {
   "cell_type": "code",
   "execution_count": 2,
   "metadata": {
    "id": "hw0ds4pcCVeF"
   },
   "outputs": [],
   "source": [
    "#from google.colab import output\n",
    "#output.enable_custom_widget_manager()"
   ]
  },
  {
   "cell_type": "code",
   "execution_count": 3,
   "metadata": {},
   "outputs": [
    {
     "name": "stdout",
     "output_type": "stream",
     "text": [
      "Enabling notebook extension jupyter-js-widgets/extension...\n",
      "      - Validating: \u001b[32mOK\u001b[0m\n"
     ]
    }
   ],
   "source": [
    "!jupyter nbextension enable --py widgetsnbextension"
   ]
  },
  {
   "cell_type": "code",
   "execution_count": 4,
   "metadata": {},
   "outputs": [],
   "source": [
    "import matplotlib\n",
    "import matplotlib.pyplot as plt"
   ]
  },
  {
   "cell_type": "code",
   "execution_count": 5,
   "metadata": {
    "id": "UNsMaMneLB6c"
   },
   "outputs": [],
   "source": [
    "%matplotlib inline"
   ]
  },
  {
   "cell_type": "markdown",
   "metadata": {
    "id": "TaY5aTSSm5uH"
   },
   "source": [
    "## Data Acquisition"
   ]
  },
  {
   "cell_type": "code",
   "execution_count": 6,
   "metadata": {
    "colab": {
     "base_uri": "https://localhost:8080/"
    },
    "id": "G1IoISx0mPaq",
    "outputId": "77336675-88db-4075-ff4e-58fe490ca2c5"
   },
   "outputs": [
    {
     "name": "stdout",
     "output_type": "stream",
     "text": [
      "--2022-01-19 08:24:58--  https://archive.ics.uci.edu/ml/machine-learning-databases/mushroom/agaricus-lepiota.data\n",
      "Resolving archive.ics.uci.edu (archive.ics.uci.edu)... 128.195.10.252\n",
      "Connecting to archive.ics.uci.edu (archive.ics.uci.edu)|128.195.10.252|:443... connected.\n",
      "HTTP request sent, awaiting response... 200 OK\n",
      "Length: 373704 (365K) [application/x-httpd-php]\n",
      "Saving to: ‘agaricus-lepiota.data.3’\n",
      "\n",
      "agaricus-lepiota.da 100%[===================>] 364.95K  1.39MB/s    in 0.3s    \n",
      "\n",
      "2022-01-19 08:24:58 (1.39 MB/s) - ‘agaricus-lepiota.data.3’ saved [373704/373704]\n",
      "\n"
     ]
    }
   ],
   "source": [
    "!wget https://archive.ics.uci.edu/ml/machine-learning-databases/mushroom/agaricus-lepiota.data"
   ]
  },
  {
   "cell_type": "code",
   "execution_count": 7,
   "metadata": {
    "colab": {
     "base_uri": "https://localhost:8080/"
    },
    "id": "Wk9f8HNonQLl",
    "outputId": "ad207f91-37e4-4676-822e-cd0e5c80ab97"
   },
   "outputs": [
    {
     "name": "stdout",
     "output_type": "stream",
     "text": [
      "--2022-01-19 08:24:59--  https://archive.ics.uci.edu/ml/machine-learning-databases/mushroom/agaricus-lepiota.names\n",
      "Resolving archive.ics.uci.edu (archive.ics.uci.edu)... 128.195.10.252\n",
      "Connecting to archive.ics.uci.edu (archive.ics.uci.edu)|128.195.10.252|:443... connected.\n",
      "HTTP request sent, awaiting response... 200 OK\n",
      "Length: 6816 (6.7K) [application/x-httpd-php]\n",
      "Saving to: ‘agaricus-lepiota.names.3’\n",
      "\n",
      "agaricus-lepiota.na 100%[===================>]   6.66K  --.-KB/s    in 0s      \n",
      "\n",
      "2022-01-19 08:24:59 (154 MB/s) - ‘agaricus-lepiota.names.3’ saved [6816/6816]\n",
      "\n"
     ]
    }
   ],
   "source": [
    "!wget https://archive.ics.uci.edu/ml/machine-learning-databases/mushroom/agaricus-lepiota.names"
   ]
  },
  {
   "cell_type": "code",
   "execution_count": 8,
   "metadata": {
    "colab": {
     "base_uri": "https://localhost:8080/"
    },
    "id": "1PHO9dwwnfQw",
    "outputId": "c6cc5873-75bb-45c0-9f94-6c78cdc06353"
   },
   "outputs": [
    {
     "name": "stdout",
     "output_type": "stream",
     "text": [
      "1. Title: Mushroom Database\n",
      "\n",
      "2. Sources: \n",
      "    (a) Mushroom records drawn from The Audubon Society Field Guide to North\n",
      "        American Mushrooms (1981). G. H. Lincoff (Pres.), New York: Alfred\n",
      "        A. Knopf\n",
      "    (b) Donor: Jeff Schlimmer (Jeffrey.Schlimmer@a.gp.cs.cmu.edu)\n",
      "    (c) Date: 27 April 1987\n",
      "\n",
      "3. Past Usage:\n",
      "    1. Schlimmer,J.S. (1987). Concept Acquisition Through Representational\n",
      "       Adjustment (Technical Report 87-19).  Doctoral disseration, Department\n",
      "       of Information and Computer Science, University of California, Irvine.\n",
      "       --- STAGGER: asymptoted to 95% classification accuracy after reviewing\n",
      "           1000 instances.\n",
      "    2. Iba,W., Wogulis,J., & Langley,P. (1988).  Trading off Simplicity\n",
      "       and Coverage in Incremental Concept Learning. In Proceedings of \n",
      "       the 5th International Conference on Machine Learning, 73-79.\n",
      "       Ann Arbor, Michigan: Morgan Kaufmann.  \n",
      "       -- approximately the same results with their HILLARY algorithm    \n",
      "    3. In the following references a set of rules (given below) were\n",
      "\tlearned for this data set which may serve as a point of\n",
      "\tcomparison for other researchers.\n",
      "\n",
      "\tDuch W, Adamczak R, Grabczewski K (1996) Extraction of logical rules\n",
      "\tfrom training data using backpropagation networks, in: Proc. of the\n",
      "\tThe 1st Online Workshop on Soft Computing, 19-30.Aug.1996, pp. 25-30,\n",
      "\tavailable on-line at: http://www.bioele.nuee.nagoya-u.ac.jp/wsc1/\n",
      "\n",
      "\tDuch W, Adamczak R, Grabczewski K, Ishikawa M, Ueda H, Extraction of\n",
      "\tcrisp logical rules using constrained backpropagation networks -\n",
      "\tcomparison of two new approaches, in: Proc. of the European Symposium\n",
      "\ton Artificial Neural Networks (ESANN'97), Bruge, Belgium 16-18.4.1997,\n",
      "\tpp. xx-xx\n",
      "\n",
      "\tWlodzislaw Duch, Department of Computer Methods, Nicholas Copernicus\n",
      "\tUniversity, 87-100 Torun, Grudziadzka 5, Poland\n",
      "\te-mail: duch@phys.uni.torun.pl\n",
      "\tWWW     http://www.phys.uni.torun.pl/kmk/\n",
      "\t\n",
      "\tDate: Mon, 17 Feb 1997 13:47:40 +0100\n",
      "\tFrom: Wlodzislaw Duch <duch@phys.uni.torun.pl>\n",
      "\tOrganization: Dept. of Computer Methods, UMK\n",
      "\n",
      "\tI have attached a file containing logical rules for mushrooms.\n",
      "\tIt should be helpful for other people since only in the last year I\n",
      "\thave seen about 10 papers analyzing this dataset and obtaining quite\n",
      "\tcomplex rules. We will try to contribute other results later.\n",
      "\n",
      "\tWith best regards, Wlodek Duch\n",
      "\t________________________________________________________________\n",
      "\n",
      "\tLogical rules for the mushroom data sets.\n",
      "\n",
      "\tLogical rules given below seem to be the simplest possible for the\n",
      "\tmushroom dataset and therefore should be treated as benchmark results.\n",
      "\n",
      "\tDisjunctive rules for poisonous mushrooms, from most general\n",
      "\tto most specific:\n",
      "\n",
      "\tP_1) odor=NOT(almond.OR.anise.OR.none)\n",
      "\t     120 poisonous cases missed, 98.52% accuracy\n",
      "\n",
      "\tP_2) spore-print-color=green\n",
      "\t     48 cases missed, 99.41% accuracy\n",
      "         \n",
      "\tP_3) odor=none.AND.stalk-surface-below-ring=scaly.AND.\n",
      "\t          (stalk-color-above-ring=NOT.brown) \n",
      "\t     8 cases missed, 99.90% accuracy\n",
      "         \n",
      "\tP_4) habitat=leaves.AND.cap-color=white\n",
      "\t         100% accuracy     \n",
      "\n",
      "\tRule P_4) may also be\n",
      "\n",
      "\tP_4') population=clustered.AND.cap_color=white\n",
      "\n",
      "\tThese rule involve 6 attributes (out of 22). Rules for edible\n",
      "\tmushrooms are obtained as negation of the rules given above, for\n",
      "\texample the rule:\n",
      "\n",
      "\todor=(almond.OR.anise.OR.none).AND.spore-print-color=NOT.green\n",
      "\n",
      "\tgives 48 errors, or 99.41% accuracy on the whole dataset.\n",
      "\n",
      "\tSeveral slightly more complex variations on these rules exist,\n",
      "\tinvolving other attributes, such as gill_size, gill_spacing,\n",
      "\tstalk_surface_above_ring, but the rules given above are the simplest\n",
      "\twe have found.\n",
      "\n",
      "\n",
      "4. Relevant Information:\n",
      "    This data set includes descriptions of hypothetical samples\n",
      "    corresponding to 23 species of gilled mushrooms in the Agaricus and\n",
      "    Lepiota Family (pp. 500-525).  Each species is identified as\n",
      "    definitely edible, definitely poisonous, or of unknown edibility and\n",
      "    not recommended.  This latter class was combined with the poisonous\n",
      "    one.  The Guide clearly states that there is no simple rule for\n",
      "    determining the edibility of a mushroom; no rule like ``leaflets\n",
      "    three, let it be'' for Poisonous Oak and Ivy.\n",
      "\n",
      "5. Number of Instances: 8124\n",
      "\n",
      "6. Number of Attributes: 22 (all nominally valued)\n",
      "\n",
      "7. Attribute Information: (classes: edible=e, poisonous=p)\n",
      "     1. cap-shape:                bell=b,conical=c,convex=x,flat=f,\n",
      "                                  knobbed=k,sunken=s\n",
      "     2. cap-surface:              fibrous=f,grooves=g,scaly=y,smooth=s\n",
      "     3. cap-color:                brown=n,buff=b,cinnamon=c,gray=g,green=r,\n",
      "                                  pink=p,purple=u,red=e,white=w,yellow=y\n",
      "     4. bruises?:                 bruises=t,no=f\n",
      "     5. odor:                     almond=a,anise=l,creosote=c,fishy=y,foul=f,\n",
      "                                  musty=m,none=n,pungent=p,spicy=s\n",
      "     6. gill-attachment:          attached=a,descending=d,free=f,notched=n\n",
      "     7. gill-spacing:             close=c,crowded=w,distant=d\n",
      "     8. gill-size:                broad=b,narrow=n\n",
      "     9. gill-color:               black=k,brown=n,buff=b,chocolate=h,gray=g,\n",
      "                                  green=r,orange=o,pink=p,purple=u,red=e,\n",
      "                                  white=w,yellow=y\n",
      "    10. stalk-shape:              enlarging=e,tapering=t\n",
      "    11. stalk-root:               bulbous=b,club=c,cup=u,equal=e,\n",
      "                                  rhizomorphs=z,rooted=r,missing=?\n",
      "    12. stalk-surface-above-ring: fibrous=f,scaly=y,silky=k,smooth=s\n",
      "    13. stalk-surface-below-ring: fibrous=f,scaly=y,silky=k,smooth=s\n",
      "    14. stalk-color-above-ring:   brown=n,buff=b,cinnamon=c,gray=g,orange=o,\n",
      "                                  pink=p,red=e,white=w,yellow=y\n",
      "    15. stalk-color-below-ring:   brown=n,buff=b,cinnamon=c,gray=g,orange=o,\n",
      "                                  pink=p,red=e,white=w,yellow=y\n",
      "    16. veil-type:                partial=p,universal=u\n",
      "    17. veil-color:               brown=n,orange=o,white=w,yellow=y\n",
      "    18. ring-number:              none=n,one=o,two=t\n",
      "    19. ring-type:                cobwebby=c,evanescent=e,flaring=f,large=l,\n",
      "                                  none=n,pendant=p,sheathing=s,zone=z\n",
      "    20. spore-print-color:        black=k,brown=n,buff=b,chocolate=h,green=r,\n",
      "                                  orange=o,purple=u,white=w,yellow=y\n",
      "    21. population:               abundant=a,clustered=c,numerous=n,\n",
      "                                  scattered=s,several=v,solitary=y\n",
      "    22. habitat:                  grasses=g,leaves=l,meadows=m,paths=p,\n",
      "                                  urban=u,waste=w,woods=d\n",
      "\n",
      "8. Missing Attribute Values: 2480 of them (denoted by \"?\"), all for\n",
      "   attribute #11.\n",
      "\n",
      "9. Class Distribution: \n",
      "    --    edible: 4208 (51.8%)\n",
      "    -- poisonous: 3916 (48.2%)\n",
      "    --     total: 8124 instances\n"
     ]
    }
   ],
   "source": [
    "# Dataset Description\n",
    "\n",
    "!cat agaricus-lepiota.names"
   ]
  },
  {
   "cell_type": "code",
   "execution_count": 9,
   "metadata": {
    "colab": {
     "base_uri": "https://localhost:8080/"
    },
    "id": "a16CT1Ignw4h",
    "outputId": "1e9cf530-eb63-491f-f2dc-e5b7cb402661"
   },
   "outputs": [
    {
     "name": "stdout",
     "output_type": "stream",
     "text": [
      "p,x,s,n,t,p,f,c,n,k,e,e,s,s,w,w,p,w,o,p,k,s,u\n",
      "e,x,s,y,t,a,f,c,b,k,e,c,s,s,w,w,p,w,o,p,n,n,g\n",
      "e,b,s,w,t,l,f,c,b,n,e,c,s,s,w,w,p,w,o,p,n,n,m\n",
      "p,x,y,w,t,p,f,c,n,n,e,e,s,s,w,w,p,w,o,p,k,s,u\n",
      "e,x,s,g,f,n,f,w,b,k,t,e,s,s,w,w,p,w,o,e,n,a,g\n",
      "e,x,y,y,t,a,f,c,b,n,e,c,s,s,w,w,p,w,o,p,k,n,g\n",
      "e,b,s,w,t,a,f,c,b,g,e,c,s,s,w,w,p,w,o,p,k,n,m\n",
      "e,b,y,w,t,l,f,c,b,n,e,c,s,s,w,w,p,w,o,p,n,s,m\n",
      "p,x,y,w,t,p,f,c,n,p,e,e,s,s,w,w,p,w,o,p,k,v,g\n",
      "e,b,s,y,t,a,f,c,b,g,e,c,s,s,w,w,p,w,o,p,k,s,m\n"
     ]
    }
   ],
   "source": [
    "# Dataset Pre-view\n",
    "\n",
    "!head agaricus-lepiota.data"
   ]
  },
  {
   "cell_type": "markdown",
   "metadata": {
    "id": "YdYY2jzQo-mK"
   },
   "source": [
    "## Data Loading"
   ]
  },
  {
   "cell_type": "markdown",
   "metadata": {
    "id": "Y-pg32qeo-je"
   },
   "source": []
  },
  {
   "cell_type": "code",
   "execution_count": 10,
   "metadata": {
    "id": "JAD_o1VnoIsl"
   },
   "outputs": [],
   "source": [
    "import numpy as np\n",
    "import pandas as pd\n",
    "from pandas_profiling import ProfileReport"
   ]
  },
  {
   "cell_type": "code",
   "execution_count": 11,
   "metadata": {
    "id": "qdXMrt7spkk5"
   },
   "outputs": [],
   "source": [
    "df = pd.read_csv('agaricus-lepiota.data', header=None)"
   ]
  },
  {
   "cell_type": "code",
   "execution_count": 12,
   "metadata": {
    "id": "3SQkjtjKs44E"
   },
   "outputs": [],
   "source": [
    "colnames = [\"class\",\n",
    "\"cap-shape\", \n",
    "\"cap-surface\", \n",
    "\"cap-color\", \n",
    "\"bruises?\",\n",
    "\"odor\",\n",
    "\"gill-attachment\",\n",
    "\"gill-spacing\",\n",
    "\"gill-size\",\n",
    "\"gill-color\",\n",
    "\"stalk-shape\",\n",
    "\"stalk-root\",\n",
    "\"stalk-surface-above-ring\",\n",
    "\"stalk-surface-below-ring\",\n",
    "\"stalk-color-above-ring\",\n",
    "\"stalk-color-below-ring\",\n",
    "\"veil-type\",\n",
    "\"veil-color\",\n",
    "\"ring-number\",\n",
    "\"ring-type\",\n",
    "\"spore-print-color\",\n",
    "\"population\",\n",
    "\"habitat\"\n",
    "]"
   ]
  },
  {
   "cell_type": "code",
   "execution_count": 13,
   "metadata": {
    "id": "XNBIkAkcuVrW"
   },
   "outputs": [],
   "source": [
    "df.columns = colnames"
   ]
  },
  {
   "cell_type": "code",
   "execution_count": 14,
   "metadata": {
    "id": "xLLGuInLyzQk"
   },
   "outputs": [],
   "source": [
    "df['stalk-root'].replace('?', np.nan, inplace=True)"
   ]
  },
  {
   "cell_type": "code",
   "execution_count": 15,
   "metadata": {
    "colab": {
     "base_uri": "https://localhost:8080/",
     "height": 319
    },
    "id": "Fch1leghpwcL",
    "outputId": "d65dd15d-b2c4-4871-996b-62acc5577016"
   },
   "outputs": [
    {
     "data": {
      "text/html": [
       "<div>\n",
       "<style scoped>\n",
       "    .dataframe tbody tr th:only-of-type {\n",
       "        vertical-align: middle;\n",
       "    }\n",
       "\n",
       "    .dataframe tbody tr th {\n",
       "        vertical-align: top;\n",
       "    }\n",
       "\n",
       "    .dataframe thead th {\n",
       "        text-align: right;\n",
       "    }\n",
       "</style>\n",
       "<table border=\"1\" class=\"dataframe\">\n",
       "  <thead>\n",
       "    <tr style=\"text-align: right;\">\n",
       "      <th></th>\n",
       "      <th>class</th>\n",
       "      <th>cap-shape</th>\n",
       "      <th>cap-surface</th>\n",
       "      <th>cap-color</th>\n",
       "      <th>bruises?</th>\n",
       "      <th>odor</th>\n",
       "      <th>gill-attachment</th>\n",
       "      <th>gill-spacing</th>\n",
       "      <th>gill-size</th>\n",
       "      <th>gill-color</th>\n",
       "      <th>...</th>\n",
       "      <th>stalk-surface-below-ring</th>\n",
       "      <th>stalk-color-above-ring</th>\n",
       "      <th>stalk-color-below-ring</th>\n",
       "      <th>veil-type</th>\n",
       "      <th>veil-color</th>\n",
       "      <th>ring-number</th>\n",
       "      <th>ring-type</th>\n",
       "      <th>spore-print-color</th>\n",
       "      <th>population</th>\n",
       "      <th>habitat</th>\n",
       "    </tr>\n",
       "  </thead>\n",
       "  <tbody>\n",
       "    <tr>\n",
       "      <th>0</th>\n",
       "      <td>p</td>\n",
       "      <td>x</td>\n",
       "      <td>s</td>\n",
       "      <td>n</td>\n",
       "      <td>t</td>\n",
       "      <td>p</td>\n",
       "      <td>f</td>\n",
       "      <td>c</td>\n",
       "      <td>n</td>\n",
       "      <td>k</td>\n",
       "      <td>...</td>\n",
       "      <td>s</td>\n",
       "      <td>w</td>\n",
       "      <td>w</td>\n",
       "      <td>p</td>\n",
       "      <td>w</td>\n",
       "      <td>o</td>\n",
       "      <td>p</td>\n",
       "      <td>k</td>\n",
       "      <td>s</td>\n",
       "      <td>u</td>\n",
       "    </tr>\n",
       "    <tr>\n",
       "      <th>1</th>\n",
       "      <td>e</td>\n",
       "      <td>x</td>\n",
       "      <td>s</td>\n",
       "      <td>y</td>\n",
       "      <td>t</td>\n",
       "      <td>a</td>\n",
       "      <td>f</td>\n",
       "      <td>c</td>\n",
       "      <td>b</td>\n",
       "      <td>k</td>\n",
       "      <td>...</td>\n",
       "      <td>s</td>\n",
       "      <td>w</td>\n",
       "      <td>w</td>\n",
       "      <td>p</td>\n",
       "      <td>w</td>\n",
       "      <td>o</td>\n",
       "      <td>p</td>\n",
       "      <td>n</td>\n",
       "      <td>n</td>\n",
       "      <td>g</td>\n",
       "    </tr>\n",
       "    <tr>\n",
       "      <th>2</th>\n",
       "      <td>e</td>\n",
       "      <td>b</td>\n",
       "      <td>s</td>\n",
       "      <td>w</td>\n",
       "      <td>t</td>\n",
       "      <td>l</td>\n",
       "      <td>f</td>\n",
       "      <td>c</td>\n",
       "      <td>b</td>\n",
       "      <td>n</td>\n",
       "      <td>...</td>\n",
       "      <td>s</td>\n",
       "      <td>w</td>\n",
       "      <td>w</td>\n",
       "      <td>p</td>\n",
       "      <td>w</td>\n",
       "      <td>o</td>\n",
       "      <td>p</td>\n",
       "      <td>n</td>\n",
       "      <td>n</td>\n",
       "      <td>m</td>\n",
       "    </tr>\n",
       "    <tr>\n",
       "      <th>3</th>\n",
       "      <td>p</td>\n",
       "      <td>x</td>\n",
       "      <td>y</td>\n",
       "      <td>w</td>\n",
       "      <td>t</td>\n",
       "      <td>p</td>\n",
       "      <td>f</td>\n",
       "      <td>c</td>\n",
       "      <td>n</td>\n",
       "      <td>n</td>\n",
       "      <td>...</td>\n",
       "      <td>s</td>\n",
       "      <td>w</td>\n",
       "      <td>w</td>\n",
       "      <td>p</td>\n",
       "      <td>w</td>\n",
       "      <td>o</td>\n",
       "      <td>p</td>\n",
       "      <td>k</td>\n",
       "      <td>s</td>\n",
       "      <td>u</td>\n",
       "    </tr>\n",
       "    <tr>\n",
       "      <th>4</th>\n",
       "      <td>e</td>\n",
       "      <td>x</td>\n",
       "      <td>s</td>\n",
       "      <td>g</td>\n",
       "      <td>f</td>\n",
       "      <td>n</td>\n",
       "      <td>f</td>\n",
       "      <td>w</td>\n",
       "      <td>b</td>\n",
       "      <td>k</td>\n",
       "      <td>...</td>\n",
       "      <td>s</td>\n",
       "      <td>w</td>\n",
       "      <td>w</td>\n",
       "      <td>p</td>\n",
       "      <td>w</td>\n",
       "      <td>o</td>\n",
       "      <td>e</td>\n",
       "      <td>n</td>\n",
       "      <td>a</td>\n",
       "      <td>g</td>\n",
       "    </tr>\n",
       "  </tbody>\n",
       "</table>\n",
       "<p>5 rows × 23 columns</p>\n",
       "</div>"
      ],
      "text/plain": [
       "  class cap-shape cap-surface cap-color bruises? odor gill-attachment  \\\n",
       "0     p         x           s         n        t    p               f   \n",
       "1     e         x           s         y        t    a               f   \n",
       "2     e         b           s         w        t    l               f   \n",
       "3     p         x           y         w        t    p               f   \n",
       "4     e         x           s         g        f    n               f   \n",
       "\n",
       "  gill-spacing gill-size gill-color  ... stalk-surface-below-ring  \\\n",
       "0            c         n          k  ...                        s   \n",
       "1            c         b          k  ...                        s   \n",
       "2            c         b          n  ...                        s   \n",
       "3            c         n          n  ...                        s   \n",
       "4            w         b          k  ...                        s   \n",
       "\n",
       "  stalk-color-above-ring stalk-color-below-ring veil-type veil-color  \\\n",
       "0                      w                      w         p          w   \n",
       "1                      w                      w         p          w   \n",
       "2                      w                      w         p          w   \n",
       "3                      w                      w         p          w   \n",
       "4                      w                      w         p          w   \n",
       "\n",
       "  ring-number ring-type spore-print-color population habitat  \n",
       "0           o         p                 k          s       u  \n",
       "1           o         p                 n          n       g  \n",
       "2           o         p                 n          n       m  \n",
       "3           o         p                 k          s       u  \n",
       "4           o         e                 n          a       g  \n",
       "\n",
       "[5 rows x 23 columns]"
      ]
     },
     "execution_count": 15,
     "metadata": {},
     "output_type": "execute_result"
    }
   ],
   "source": [
    "df.head()"
   ]
  },
  {
   "cell_type": "markdown",
   "metadata": {
    "id": "o8nsJS7JugFW"
   },
   "source": [
    "## Exploratory Data Analysis\n",
    "\n",
    "**Note:** Pre-processing step is skipped as all values are categorical and catboost can deal with missing values on its own.\n",
    "\n"
   ]
  },
  {
   "cell_type": "code",
   "execution_count": 16,
   "metadata": {
    "id": "NbE-H4VSpx9Q"
   },
   "outputs": [],
   "source": [
    "profile = ProfileReport(df, title=\"Exploratory Data Analysis Report\", explorative=True)"
   ]
  },
  {
   "cell_type": "code",
   "execution_count": null,
   "metadata": {
    "colab": {
     "base_uri": "https://localhost:8080/",
     "height": 916,
     "referenced_widgets": [
      "7281e6c21ac44b58a824c7dde25bc6d8",
      "a1c457c9176b4aa9ac2d4509595a28bc",
      "87145d24265a4a57a9de9311710290bd",
      "4daceef39acf4be0a00506b96946c3dc",
      "82b15f7e49554d6898f55ee3d54a2187",
      "e8ded597e2374c54bce8aa8cf9752fa9",
      "a91d35e6dcb34f0990bd34263169dd94",
      "f6d09cd4302c4749bb323ee1e0dbc4c4",
      "8cffcce1b2dc4f918d572e2519147ddc",
      "cce8154d13734567ba504fab4f230b8d",
      "f26a529bc839415189a6d1679feaa23f",
      "f6b43963ea14400e824794e341fda7d5",
      "cc9b79dbc5994bf9a89096bd9c98415d",
      "be39d4ac72ed4851984c162e60ba0cde",
      "399117699f324713af22cc47a0ec1993",
      "bac1401fafc940109afb93bf1c6b43ae",
      "ba0bd40a04564713af8003cb5d9f897d",
      "d358afa99e03475f8e67be5b6f6de743",
      "e815b00a8fe849bb8fb5caf6bc7c8246",
      "0f880512e2e44042965f46d0d2f3d3ca",
      "b831571b5cd64480827e4ce60f381edf",
      "e7326ecfd8ac49eeb2904a89836c3b75",
      "fa74f2fef1a0448e8654b06d4467f2be",
      "66a26d26735347ea872dbf91b4a28278",
      "b52417ad3de744ecb93c765b9138d35b",
      "4871906bf28a4571a8285d5da71308f3",
      "db870f624a8d43c58891a83a997cfe00",
      "b59f888894f64532b7804eeb34860faa",
      "d7fc565411c748ab8d55731f19169232",
      "f8250d94b3cb4e7d8bff9a4d2fea4da2",
      "02da88dc3f994432986cc9d6af5dd279",
      "f8a030f06aa641959ff5a2727bb7adf1",
      "f94d171190df45809abf06ba5147c4e0"
     ]
    },
    "id": "et62FB2bu03O",
    "outputId": "8903ba14-bfbb-4834-da41-7e2ffad91aaa"
   },
   "outputs": [
    {
     "data": {
      "application/vnd.jupyter.widget-view+json": {
       "model_id": "0e6cf4106e8943a69bc7ca23db4442ac",
       "version_major": 2,
       "version_minor": 0
      },
      "text/plain": [
       "Summarize dataset:   0%|          | 0/5 [00:00<?, ?it/s]"
      ]
     },
     "metadata": {},
     "output_type": "display_data"
    }
   ],
   "source": [
    "profile.to_notebook_iframe()"
   ]
  },
  {
   "cell_type": "markdown",
   "metadata": {
    "id": "tyuSizs983PJ"
   },
   "source": [
    "## Data Preparation"
   ]
  },
  {
   "cell_type": "markdown",
   "metadata": {
    "id": "7Q4V1vhK9-lN"
   },
   "source": [
    "### Data Formatting"
   ]
  },
  {
   "cell_type": "code",
   "execution_count": null,
   "metadata": {
    "id": "3zo0bRzi9E3G"
   },
   "outputs": [],
   "source": [
    "# Converting NaN values to string so that catboost can deal with it\n",
    "\n",
    "df['stalk-root'].replace(np.nan, 'Nan', inplace=True)"
   ]
  },
  {
   "cell_type": "markdown",
   "metadata": {
    "id": "QCedTVid0jVq"
   },
   "source": [
    "### Data Splitting"
   ]
  },
  {
   "cell_type": "code",
   "execution_count": null,
   "metadata": {
    "id": "_L_P1kKqxeQW"
   },
   "outputs": [],
   "source": [
    "from sklearn.model_selection import train_test_split"
   ]
  },
  {
   "cell_type": "code",
   "execution_count": null,
   "metadata": {
    "id": "ecsT87mN1hg7"
   },
   "outputs": [],
   "source": [
    "df_train_val, df_test = train_test_split(df, test_size=0.2, random_state=42)"
   ]
  },
  {
   "cell_type": "code",
   "execution_count": null,
   "metadata": {
    "id": "xP_jBR8Z1zeS"
   },
   "outputs": [],
   "source": [
    "df_train, df_val = train_test_split(df_train_val, test_size=0.125, random_state=42)"
   ]
  },
  {
   "cell_type": "code",
   "execution_count": null,
   "metadata": {
    "id": "DHGKxfTK2K_e"
   },
   "outputs": [],
   "source": [
    "X_train, y_train = df_train.drop('class', axis=1), df_train['class']"
   ]
  },
  {
   "cell_type": "code",
   "execution_count": null,
   "metadata": {
    "id": "yTSgsJ5623Ia"
   },
   "outputs": [],
   "source": [
    "X_test, y_test = df_test.drop('class', axis=1), df_test['class']"
   ]
  },
  {
   "cell_type": "code",
   "execution_count": null,
   "metadata": {
    "id": "Sp8Tkrn42-wg"
   },
   "outputs": [],
   "source": [
    "X_val, y_val = df_val.drop('class', axis=1), df_val['class']"
   ]
  },
  {
   "cell_type": "markdown",
   "metadata": {
    "id": "etApwZTb4Bnn"
   },
   "source": [
    "### Data Pool Creation"
   ]
  },
  {
   "cell_type": "code",
   "execution_count": null,
   "metadata": {
    "id": "uEOxdoFc39n2"
   },
   "outputs": [],
   "source": [
    "import catboost as cb"
   ]
  },
  {
   "cell_type": "code",
   "execution_count": null,
   "metadata": {
    "id": "ixS9HzFN7Ivo"
   },
   "outputs": [],
   "source": [
    "categorical_indicies = colnames[1:]"
   ]
  },
  {
   "cell_type": "code",
   "execution_count": null,
   "metadata": {
    "id": "v4OHTjAI7zi8"
   },
   "outputs": [],
   "source": [
    "train_dataset = cb.Pool(X_train, y_train, \n",
    "                        cat_features=categorical_indicies)"
   ]
  },
  {
   "cell_type": "code",
   "execution_count": null,
   "metadata": {
    "id": "TB81oGyH781U"
   },
   "outputs": [],
   "source": [
    "val_dataset = cb.Pool(X_val, y_val, \n",
    "                        cat_features=categorical_indicies)"
   ]
  },
  {
   "cell_type": "code",
   "execution_count": null,
   "metadata": {
    "id": "Uk2FwmyL9zRD"
   },
   "outputs": [],
   "source": [
    "test_dataset = cb.Pool(X_test, y_test, \n",
    "                        cat_features=categorical_indicies)"
   ]
  },
  {
   "cell_type": "markdown",
   "metadata": {
    "id": "dH7UBHiz-QyR"
   },
   "source": [
    "## Training"
   ]
  },
  {
   "cell_type": "code",
   "execution_count": null,
   "metadata": {
    "id": "sJg05Rzh-PUi"
   },
   "outputs": [],
   "source": [
    "model = cb.CatBoostClassifier(depth=8, \n",
    "                              iterations=100, \n",
    "                              eval_metric='Accuracy', \n",
    "                              boosting_type=\"Ordered\", \n",
    "                              bagging_temperature=0, \n",
    "                              use_best_model=True, \n",
    "                              loss_function='Logloss')"
   ]
  },
  {
   "cell_type": "code",
   "execution_count": null,
   "metadata": {
    "colab": {
     "base_uri": "https://localhost:8080/",
     "height": 1000,
     "referenced_widgets": [
      "892c91f86a724e23bcb6bf1684b1c556"
     ]
    },
    "id": "vPWP0Mrw-hCt",
    "outputId": "c1ac006e-267b-485a-e8c9-f056cc72a696"
   },
   "outputs": [],
   "source": [
    "model.fit(train_dataset, eval_set=val_dataset, plot=True)"
   ]
  },
  {
   "cell_type": "markdown",
   "metadata": {
    "id": "XOe_dsxjCzxx"
   },
   "source": [
    "## Evaluation"
   ]
  },
  {
   "cell_type": "code",
   "execution_count": null,
   "metadata": {
    "colab": {
     "base_uri": "https://localhost:8080/"
    },
    "id": "ahujT1Ng-ngw",
    "outputId": "647c0cac-28a4-48f2-fd89-d8c30dc0fea3"
   },
   "outputs": [],
   "source": [
    "# Compute metrics for all models\n",
    "\n",
    "model.eval_metrics(test_dataset, ['Accuracy', 'Logloss', 'AUC', 'CrossEntropy', 'Recall', 'Precision', 'F1', 'BalancedAccuracy'])"
   ]
  },
  {
   "cell_type": "code",
   "execution_count": null,
   "metadata": {
    "id": "cNJmksxGBr3t"
   },
   "outputs": [],
   "source": [
    "import seaborn as sns"
   ]
  },
  {
   "cell_type": "code",
   "execution_count": null,
   "metadata": {
    "id": "ww7ghaX2B-kN"
   },
   "outputs": [],
   "source": [
    "def plot_feature_importance(importance, names, model_type):\n",
    "   feature_importance = np.array(importance)\n",
    "   feature_names = np.array(names)\n",
    "   data={'feature_names':feature_names,\n",
    "         'feature_importance':feature_importance}\n",
    "   fi_df = pd.DataFrame(data) \n",
    "   fi_df.sort_values(by=['feature_importance'],    \n",
    "                     ascending=False,inplace=True)\n",
    "   plt.figure(figsize=(10,8))\n",
    "   sns.barplot(x=fi_df['feature_importance'], \n",
    "               y=fi_df['feature_names'])\n",
    "   plt.title(model_type + ' FEATURE IMPORTANCE')\n",
    "   plt.xlabel('FEATURE IMPORTANCE')\n",
    "   plt.ylabel('FEATURE NAMES')\n",
    "   plt.show()"
   ]
  },
  {
   "cell_type": "code",
   "execution_count": null,
   "metadata": {},
   "outputs": [],
   "source": [
    "%matplotlib inline"
   ]
  },
  {
   "cell_type": "code",
   "execution_count": null,
   "metadata": {
    "id": "8AEkwrnFFhfs"
   },
   "outputs": [],
   "source": [
    "plot_feature_importance(model.get_feature_importance(), categorical_indicies, 'CATBOOST')"
   ]
  },
  {
   "cell_type": "code",
   "execution_count": null,
   "metadata": {
    "id": "VL5if_kzF7mf"
   },
   "outputs": [],
   "source": [
    "pred = model.predict(X_test)"
   ]
  },
  {
   "cell_type": "code",
   "execution_count": null,
   "metadata": {
    "id": "MNilc0wjGQOs"
   },
   "outputs": [],
   "source": [
    "pred_proba = model.predict_proba(X_test)"
   ]
  },
  {
   "cell_type": "code",
   "execution_count": null,
   "metadata": {
    "id": "kefvz98cIGoV"
   },
   "outputs": [],
   "source": [
    "from sklearn.metrics import classification_report, confusion_matrix, roc_curve, RocCurveDisplay"
   ]
  },
  {
   "cell_type": "code",
   "execution_count": null,
   "metadata": {
    "colab": {
     "base_uri": "https://localhost:8080/"
    },
    "id": "yaPx9PhVIbQq",
    "outputId": "7f5d21ef-b141-403a-8148-59a51ccd8b80"
   },
   "outputs": [],
   "source": [
    "print(classification_report(y_test, pred))"
   ]
  },
  {
   "cell_type": "code",
   "execution_count": null,
   "metadata": {
    "colab": {
     "base_uri": "https://localhost:8080/",
     "height": 17
    },
    "id": "As3sMjJFIf2U",
    "outputId": "56bb545b-6a17-48d1-da03-988e5ce7767e"
   },
   "outputs": [],
   "source": [
    "sns.heatmap(confusion_matrix(y_test, pred), annot=True)\n",
    "plt.show()"
   ]
  },
  {
   "cell_type": "code",
   "execution_count": null,
   "metadata": {
    "colab": {
     "base_uri": "https://localhost:8080/",
     "height": 17
    },
    "id": "9x2yzz97JCNk",
    "outputId": "75a66bb1-2233-4b5e-8c93-a19e66676e29"
   },
   "outputs": [],
   "source": [
    "RocCurveDisplay.from_predictions(y_test, pred_proba[:, 0], pos_label='e')\n",
    "plt.show()"
   ]
  },
  {
   "cell_type": "code",
   "execution_count": null,
   "metadata": {
    "id": "qQP3H7kWKq3d"
   },
   "outputs": [],
   "source": []
  }
 ],
 "metadata": {
  "colab": {
   "name": "Classification Of Mushroom Data.ipynb",
   "provenance": []
  },
  "kernelspec": {
   "display_name": "Python 3 (ipykernel)",
   "language": "python",
   "name": "python3"
  },
  "language_info": {
   "codemirror_mode": {
    "name": "ipython",
    "version": 3
   },
   "file_extension": ".py",
   "mimetype": "text/x-python",
   "name": "python",
   "nbconvert_exporter": "python",
   "pygments_lexer": "ipython3",
   "version": "3.7.12"
  },
  "widgets": {
   "application/vnd.jupyter.widget-state+json": {
    "02da88dc3f994432986cc9d6af5dd279": {
     "model_module": "@jupyter-widgets/base",
     "model_module_version": "1.2.0",
     "model_name": "LayoutModel",
     "state": {
      "_model_module": "@jupyter-widgets/base",
      "_model_module_version": "1.2.0",
      "_model_name": "LayoutModel",
      "_view_count": null,
      "_view_module": "@jupyter-widgets/base",
      "_view_module_version": "1.2.0",
      "_view_name": "LayoutView",
      "align_content": null,
      "align_items": null,
      "align_self": null,
      "border": null,
      "bottom": null,
      "display": null,
      "flex": null,
      "flex_flow": null,
      "grid_area": null,
      "grid_auto_columns": null,
      "grid_auto_flow": null,
      "grid_auto_rows": null,
      "grid_column": null,
      "grid_gap": null,
      "grid_row": null,
      "grid_template_areas": null,
      "grid_template_columns": null,
      "grid_template_rows": null,
      "height": null,
      "justify_content": null,
      "justify_items": null,
      "left": null,
      "margin": null,
      "max_height": null,
      "max_width": null,
      "min_height": null,
      "min_width": null,
      "object_fit": null,
      "object_position": null,
      "order": null,
      "overflow": null,
      "overflow_x": null,
      "overflow_y": null,
      "padding": null,
      "right": null,
      "top": null,
      "visibility": null,
      "width": null
     }
    },
    "0f880512e2e44042965f46d0d2f3d3ca": {
     "model_module": "@jupyter-widgets/base",
     "model_module_version": "1.2.0",
     "model_name": "LayoutModel",
     "state": {
      "_model_module": "@jupyter-widgets/base",
      "_model_module_version": "1.2.0",
      "_model_name": "LayoutModel",
      "_view_count": null,
      "_view_module": "@jupyter-widgets/base",
      "_view_module_version": "1.2.0",
      "_view_name": "LayoutView",
      "align_content": null,
      "align_items": null,
      "align_self": null,
      "border": null,
      "bottom": null,
      "display": null,
      "flex": null,
      "flex_flow": null,
      "grid_area": null,
      "grid_auto_columns": null,
      "grid_auto_flow": null,
      "grid_auto_rows": null,
      "grid_column": null,
      "grid_gap": null,
      "grid_row": null,
      "grid_template_areas": null,
      "grid_template_columns": null,
      "grid_template_rows": null,
      "height": null,
      "justify_content": null,
      "justify_items": null,
      "left": null,
      "margin": null,
      "max_height": null,
      "max_width": null,
      "min_height": null,
      "min_width": null,
      "object_fit": null,
      "object_position": null,
      "order": null,
      "overflow": null,
      "overflow_x": null,
      "overflow_y": null,
      "padding": null,
      "right": null,
      "top": null,
      "visibility": null,
      "width": null
     }
    },
    "399117699f324713af22cc47a0ec1993": {
     "model_module": "@jupyter-widgets/controls",
     "model_module_version": "1.5.0",
     "model_name": "FloatProgressModel",
     "state": {
      "_dom_classes": [],
      "_model_module": "@jupyter-widgets/controls",
      "_model_module_version": "1.5.0",
      "_model_name": "FloatProgressModel",
      "_view_count": null,
      "_view_module": "@jupyter-widgets/controls",
      "_view_module_version": "1.5.0",
      "_view_name": "ProgressView",
      "bar_style": "success",
      "description": "",
      "description_tooltip": null,
      "layout": "IPY_MODEL_0f880512e2e44042965f46d0d2f3d3ca",
      "max": 1,
      "min": 0,
      "orientation": "horizontal",
      "style": "IPY_MODEL_e815b00a8fe849bb8fb5caf6bc7c8246",
      "value": 1
     }
    },
    "4871906bf28a4571a8285d5da71308f3": {
     "model_module": "@jupyter-widgets/controls",
     "model_module_version": "1.5.0",
     "model_name": "FloatProgressModel",
     "state": {
      "_dom_classes": [],
      "_model_module": "@jupyter-widgets/controls",
      "_model_module_version": "1.5.0",
      "_model_name": "FloatProgressModel",
      "_view_count": null,
      "_view_module": "@jupyter-widgets/controls",
      "_view_module_version": "1.5.0",
      "_view_name": "ProgressView",
      "bar_style": "success",
      "description": "",
      "description_tooltip": null,
      "layout": "IPY_MODEL_02da88dc3f994432986cc9d6af5dd279",
      "max": 1,
      "min": 0,
      "orientation": "horizontal",
      "style": "IPY_MODEL_f8250d94b3cb4e7d8bff9a4d2fea4da2",
      "value": 1
     }
    },
    "4daceef39acf4be0a00506b96946c3dc": {
     "model_module": "@jupyter-widgets/controls",
     "model_module_version": "1.5.0",
     "model_name": "FloatProgressModel",
     "state": {
      "_dom_classes": [],
      "_model_module": "@jupyter-widgets/controls",
      "_model_module_version": "1.5.0",
      "_model_name": "FloatProgressModel",
      "_view_count": null,
      "_view_module": "@jupyter-widgets/controls",
      "_view_module_version": "1.5.0",
      "_view_name": "ProgressView",
      "bar_style": "success",
      "description": "",
      "description_tooltip": null,
      "layout": "IPY_MODEL_8cffcce1b2dc4f918d572e2519147ddc",
      "max": 5,
      "min": 0,
      "orientation": "horizontal",
      "style": "IPY_MODEL_f6d09cd4302c4749bb323ee1e0dbc4c4",
      "value": 5
     }
    },
    "66a26d26735347ea872dbf91b4a28278": {
     "model_module": "@jupyter-widgets/base",
     "model_module_version": "1.2.0",
     "model_name": "LayoutModel",
     "state": {
      "_model_module": "@jupyter-widgets/base",
      "_model_module_version": "1.2.0",
      "_model_name": "LayoutModel",
      "_view_count": null,
      "_view_module": "@jupyter-widgets/base",
      "_view_module_version": "1.2.0",
      "_view_name": "LayoutView",
      "align_content": null,
      "align_items": null,
      "align_self": null,
      "border": null,
      "bottom": null,
      "display": null,
      "flex": null,
      "flex_flow": null,
      "grid_area": null,
      "grid_auto_columns": null,
      "grid_auto_flow": null,
      "grid_auto_rows": null,
      "grid_column": null,
      "grid_gap": null,
      "grid_row": null,
      "grid_template_areas": null,
      "grid_template_columns": null,
      "grid_template_rows": null,
      "height": null,
      "justify_content": null,
      "justify_items": null,
      "left": null,
      "margin": null,
      "max_height": null,
      "max_width": null,
      "min_height": null,
      "min_width": null,
      "object_fit": null,
      "object_position": null,
      "order": null,
      "overflow": null,
      "overflow_x": null,
      "overflow_y": null,
      "padding": null,
      "right": null,
      "top": null,
      "visibility": null,
      "width": null
     }
    },
    "7281e6c21ac44b58a824c7dde25bc6d8": {
     "model_module": "@jupyter-widgets/controls",
     "model_module_version": "1.5.0",
     "model_name": "HBoxModel",
     "state": {
      "_dom_classes": [],
      "_model_module": "@jupyter-widgets/controls",
      "_model_module_version": "1.5.0",
      "_model_name": "HBoxModel",
      "_view_count": null,
      "_view_module": "@jupyter-widgets/controls",
      "_view_module_version": "1.5.0",
      "_view_name": "HBoxView",
      "box_style": "",
      "children": [
       "IPY_MODEL_87145d24265a4a57a9de9311710290bd",
       "IPY_MODEL_4daceef39acf4be0a00506b96946c3dc",
       "IPY_MODEL_82b15f7e49554d6898f55ee3d54a2187"
      ],
      "layout": "IPY_MODEL_a1c457c9176b4aa9ac2d4509595a28bc"
     }
    },
    "82b15f7e49554d6898f55ee3d54a2187": {
     "model_module": "@jupyter-widgets/controls",
     "model_module_version": "1.5.0",
     "model_name": "HTMLModel",
     "state": {
      "_dom_classes": [],
      "_model_module": "@jupyter-widgets/controls",
      "_model_module_version": "1.5.0",
      "_model_name": "HTMLModel",
      "_view_count": null,
      "_view_module": "@jupyter-widgets/controls",
      "_view_module_version": "1.5.0",
      "_view_name": "HTMLView",
      "description": "",
      "description_tooltip": null,
      "layout": "IPY_MODEL_f26a529bc839415189a6d1679feaa23f",
      "placeholder": "​",
      "style": "IPY_MODEL_cce8154d13734567ba504fab4f230b8d",
      "value": " 37/37 [00:09&lt;00:00,  1.76it/s, Completed]"
     }
    },
    "87145d24265a4a57a9de9311710290bd": {
     "model_module": "@jupyter-widgets/controls",
     "model_module_version": "1.5.0",
     "model_name": "HTMLModel",
     "state": {
      "_dom_classes": [],
      "_model_module": "@jupyter-widgets/controls",
      "_model_module_version": "1.5.0",
      "_model_name": "HTMLModel",
      "_view_count": null,
      "_view_module": "@jupyter-widgets/controls",
      "_view_module_version": "1.5.0",
      "_view_name": "HTMLView",
      "description": "",
      "description_tooltip": null,
      "layout": "IPY_MODEL_a91d35e6dcb34f0990bd34263169dd94",
      "placeholder": "​",
      "style": "IPY_MODEL_e8ded597e2374c54bce8aa8cf9752fa9",
      "value": "Summarize dataset: 100%"
     }
    },
    "892c91f86a724e23bcb6bf1684b1c556": {
     "model_module": "catboost-widget",
     "model_module_version": "^1.0.0",
     "model_name": "CatboostWidgetModel",
     "state": {
      "_dom_classes": [],
      "_model_module": "catboost-widget",
      "_model_module_version": "^1.0.0",
      "_model_name": "CatboostWidgetModel",
      "_view_count": null,
      "_view_module": "catboost-widget",
      "_view_module_version": "^1.0.0",
      "_view_name": "CatboostWidgetView",
      "data": {
       "catboost_info": {
        "content": {
         "data": {
          "iterations": [
           {
            "iteration": 0,
            "learn": [
             0.985226873,
             0.4038120209
            ],
            "passed_time": 0.03024865704,
            "remaining_time": 2.994617047,
            "test": [
             0.9827798278,
             0.4030916342
            ]
           },
           {
            "iteration": 1,
            "learn": [
             0.985226873,
             0.2534569516
            ],
            "passed_time": 0.05394375403,
            "remaining_time": 2.643243947,
            "test": [
             0.9827798278,
             0.2534167741
            ]
           },
           {
            "iteration": 2,
            "learn": [
             0.985226873,
             0.1750009916
            ],
            "passed_time": 0.06543008031,
            "remaining_time": 2.115572597,
            "test": [
             0.9827798278,
             0.1767057377
            ]
           },
           {
            "iteration": 3,
            "learn": [
             0.985226873,
             0.1367736828
            ],
            "passed_time": 0.07294491466,
            "remaining_time": 1.750677952,
            "test": [
             0.9827798278,
             0.1393860383
            ]
           },
           {
            "iteration": 4,
            "learn": [
             0.985226873,
             0.08329991456
            ],
            "passed_time": 0.1029141079,
            "remaining_time": 1.95536805,
            "test": [
             0.9827798278,
             0.08672428687
            ]
           },
           {
            "iteration": 5,
            "learn": [
             0.9854027436,
             0.05435636352
            ],
            "passed_time": 0.1158385863,
            "remaining_time": 1.814804519,
            "test": [
             0.9827798278,
             0.05739726996
            ]
           },
           {
            "iteration": 6,
            "learn": [
             0.9855786141,
             0.03417971585
            ],
            "passed_time": 0.1373077458,
            "remaining_time": 1.82423148,
            "test": [
             0.9827798278,
             0.03584431079
            ]
           },
           {
            "iteration": 7,
            "learn": [
             0.994020401,
             0.02873781128
            ],
            "passed_time": 0.152661312,
            "remaining_time": 1.755605088,
            "test": [
             0.9926199262,
             0.0302302911
            ]
           },
           {
            "iteration": 8,
            "learn": [
             0.9985930355,
             0.0199600368
            ],
            "passed_time": 0.1876744979,
            "remaining_time": 1.897597701,
            "test": [
             0.9987699877,
             0.02077425095
            ]
           },
           {
            "iteration": 9,
            "learn": [
             0.9987689061,
             0.0138111354
            ],
            "passed_time": 0.2314526775,
            "remaining_time": 2.083074098,
            "test": [
             0.9987699877,
             0.0141787704
            ]
           },
           {
            "iteration": 10,
            "learn": [
             0.9987689061,
             0.01010836311
            ],
            "passed_time": 0.2615285551,
            "remaining_time": 2.116003764,
            "test": [
             0.9987699877,
             0.01025883055
            ]
           },
           {
            "iteration": 11,
            "learn": [
             1,
             0.007656384639
            ],
            "passed_time": 0.2925552175,
            "remaining_time": 2.145404928,
            "test": [
             1,
             0.007635035946
            ]
           },
           {
            "iteration": 12,
            "learn": [
             1,
             0.005952154351
            ],
            "passed_time": 0.3221610389,
            "remaining_time": 2.156000799,
            "test": [
             1,
             0.00582146528
            ]
           },
           {
            "iteration": 13,
            "learn": [
             1,
             0.004943076219
            ],
            "passed_time": 0.3508228971,
            "remaining_time": 2.15505494,
            "test": [
             1,
             0.004752875463
            ]
           },
           {
            "iteration": 14,
            "learn": [
             1,
             0.004123813634
            ],
            "passed_time": 0.3838852364,
            "remaining_time": 2.175349673,
            "test": [
             1,
             0.003883139498
            ]
           },
           {
            "iteration": 15,
            "learn": [
             1,
             0.003508867902
            ],
            "passed_time": 0.4139416573,
            "remaining_time": 2.173193701,
            "test": [
             1,
             0.003218444066
            ]
           },
           {
            "iteration": 16,
            "learn": [
             1,
             0.003048333577
            ],
            "passed_time": 0.4473213107,
            "remaining_time": 2.183980517,
            "test": [
             1,
             0.00273581659
            ]
           },
           {
            "iteration": 17,
            "learn": [
             1,
             0.002595822511
            ],
            "passed_time": 0.4760425068,
            "remaining_time": 2.168638087,
            "test": [
             1,
             0.002269763142
            ]
           },
           {
            "iteration": 18,
            "learn": [
             1,
             0.002354380839
            ],
            "passed_time": 0.5049860076,
            "remaining_time": 2.152835085,
            "test": [
             1,
             0.002039937934
            ]
           },
           {
            "iteration": 19,
            "learn": [
             1,
             0.00228128191
            ],
            "passed_time": 0.5256239796,
            "remaining_time": 2.102495918,
            "test": [
             1,
             0.0019663538
            ]
           },
           {
            "iteration": 20,
            "learn": [
             1,
             0.002222263076
            ],
            "passed_time": 0.5554694868,
            "remaining_time": 2.089623307,
            "test": [
             1,
             0.001908879392
            ]
           },
           {
            "iteration": 21,
            "learn": [
             1,
             0.002171764267
            ],
            "passed_time": 0.5734153224,
            "remaining_time": 2.033017961,
            "test": [
             1,
             0.001861739971
            ]
           },
           {
            "iteration": 22,
            "learn": [
             1,
             0.001970253304
            ],
            "passed_time": 0.589179071,
            "remaining_time": 1.972469064,
            "test": [
             1,
             0.001717482796
            ]
           },
           {
            "iteration": 23,
            "learn": [
             1,
             0.001806549505
            ],
            "passed_time": 0.6184306495,
            "remaining_time": 1.958363724,
            "test": [
             1,
             0.001608520098
            ]
           },
           {
            "iteration": 24,
            "learn": [
             1,
             0.001773280552
            ],
            "passed_time": 0.6515121569,
            "remaining_time": 1.954536471,
            "test": [
             1,
             0.001568829558
            ]
           },
           {
            "iteration": 25,
            "learn": [
             1,
             0.001600565099
            ],
            "passed_time": 0.6811482286,
            "remaining_time": 1.938652651,
            "test": [
             1,
             0.001367077568
            ]
           },
           {
            "iteration": 26,
            "learn": [
             1,
             0.00150133216
            ],
            "passed_time": 0.7114603824,
            "remaining_time": 1.923578071,
            "test": [
             1,
             0.001310849389
            ]
           },
           {
            "iteration": 27,
            "learn": [
             1,
             0.001405831006
            ],
            "passed_time": 0.7405213935,
            "remaining_time": 1.904197869,
            "test": [
             1,
             0.001259708401
            ]
           },
           {
            "iteration": 28,
            "learn": [
             1,
             0.001321514312
            ],
            "passed_time": 0.7612583818,
            "remaining_time": 1.863770521,
            "test": [
             1,
             0.001217894726
            ]
           },
           {
            "iteration": 29,
            "learn": [
             1,
             0.001216860435
            ],
            "passed_time": 0.793651222,
            "remaining_time": 1.851852851,
            "test": [
             1,
             0.001087159773
            ]
           },
           {
            "iteration": 30,
            "learn": [
             1,
             0.001127366453
            ],
            "passed_time": 0.8228329472,
            "remaining_time": 1.831466883,
            "test": [
             1,
             0.0009879202976
            ]
           },
           {
            "iteration": 31,
            "learn": [
             1,
             0.001114408961
            ],
            "passed_time": 0.8340926246,
            "remaining_time": 1.772446827,
            "test": [
             1,
             0.0009686701381
            ]
           },
           {
            "iteration": 32,
            "learn": [
             1,
             0.001114392542
            ],
            "passed_time": 0.8430757156,
            "remaining_time": 1.71169918,
            "test": [
             1,
             0.0009686692017
            ]
           },
           {
            "iteration": 33,
            "learn": [
             1,
             0.001114387311
            ],
            "passed_time": 0.8536313588,
            "remaining_time": 1.657049108,
            "test": [
             1,
             0.0009686593284
            ]
           },
           {
            "iteration": 34,
            "learn": [
             1,
             0.001096689198
            ],
            "passed_time": 0.8685926983,
            "remaining_time": 1.613100725,
            "test": [
             1,
             0.0009504999939
            ]
           },
           {
            "iteration": 35,
            "learn": [
             1,
             0.001096688156
            ],
            "passed_time": 0.8781054485,
            "remaining_time": 1.561076353,
            "test": [
             1,
             0.0009504997128
            ]
           },
           {
            "iteration": 36,
            "learn": [
             1,
             0.001096671652
            ],
            "passed_time": 0.8866499908,
            "remaining_time": 1.509701336,
            "test": [
             1,
             0.0009504981796
            ]
           },
           {
            "iteration": 37,
            "learn": [
             1,
             0.001094768436
            ],
            "passed_time": 0.8958205314,
            "remaining_time": 1.46160192,
            "test": [
             1,
             0.0009502836124
            ]
           },
           {
            "iteration": 38,
            "learn": [
             1,
             0.001094744516
            ],
            "passed_time": 0.9183748803,
            "remaining_time": 1.436432505,
            "test": [
             1,
             0.0009502889247
            ]
           },
           {
            "iteration": 39,
            "learn": [
             1,
             0.001094698984
            ],
            "passed_time": 0.9299607584,
            "remaining_time": 1.394941138,
            "test": [
             1,
             0.0009502048667
            ]
           },
           {
            "iteration": 40,
            "learn": [
             1,
             0.00109469511
            ],
            "passed_time": 0.948136984,
            "remaining_time": 1.364392245,
            "test": [
             1,
             0.0009502030073
            ]
           },
           {
            "iteration": 41,
            "learn": [
             1,
             0.00109463103
            ],
            "passed_time": 0.9787093767,
            "remaining_time": 1.351551044,
            "test": [
             1,
             0.0009501046969
            ]
           },
           {
            "iteration": 42,
            "learn": [
             1,
             0.001055831954
            ],
            "passed_time": 1.016523963,
            "remaining_time": 1.347485254,
            "test": [
             1,
             0.0009259872454
            ]
           },
           {
            "iteration": 43,
            "learn": [
             1,
             0.001055812892
            ],
            "passed_time": 1.025924304,
            "remaining_time": 1.305721842,
            "test": [
             1,
             0.0009259550602
            ]
           },
           {
            "iteration": 44,
            "learn": [
             1,
             0.001054679855
            ],
            "passed_time": 1.034738916,
            "remaining_time": 1.264680897,
            "test": [
             1,
             0.0009257873553
            ]
           },
           {
            "iteration": 45,
            "learn": [
             1,
             0.001015599235
            ],
            "passed_time": 1.068292117,
            "remaining_time": 1.254082051,
            "test": [
             1,
             0.0009063283239
            ]
           },
           {
            "iteration": 46,
            "learn": [
             1,
             0.000992897047
            ],
            "passed_time": 1.098283626,
            "remaining_time": 1.238490046,
            "test": [
             1,
             0.0008922666207
            ]
           },
           {
            "iteration": 47,
            "learn": [
             1,
             0.0009331713422
            ],
            "passed_time": 1.127970264,
            "remaining_time": 1.221967786,
            "test": [
             1,
             0.0008253718852
            ]
           },
           {
            "iteration": 48,
            "learn": [
             1,
             0.0009331640419
            ],
            "passed_time": 1.136790392,
            "remaining_time": 1.18319,
            "test": [
             1,
             0.0008253686585
            ]
           },
           {
            "iteration": 49,
            "learn": [
             1,
             0.0009331622179
            ],
            "passed_time": 1.147184405,
            "remaining_time": 1.147184405,
            "test": [
             1,
             0.0008253678573
            ]
           },
           {
            "iteration": 50,
            "learn": [
             1,
             0.0008888414825
            ],
            "passed_time": 1.177292859,
            "remaining_time": 1.131124512,
            "test": [
             1,
             0.0007752613638
            ]
           },
           {
            "iteration": 51,
            "learn": [
             1,
             0.0008888414825
            ],
            "passed_time": 1.185447112,
            "remaining_time": 1.094258873,
            "test": [
             1,
             0.0007752613638
            ]
           },
           {
            "iteration": 52,
            "learn": [
             1,
             0.0008888207658
            ],
            "passed_time": 1.195976694,
            "remaining_time": 1.060583106,
            "test": [
             1,
             0.0007752557108
            ]
           },
           {
            "iteration": 53,
            "learn": [
             1,
             0.0008888126344
            ],
            "passed_time": 1.204836319,
            "remaining_time": 1.02634205,
            "test": [
             1,
             0.0007752446405
            ]
           },
           {
            "iteration": 54,
            "learn": [
             1,
             0.0008758452376
            ],
            "passed_time": 1.220074752,
            "remaining_time": 0.9982429791,
            "test": [
             1,
             0.0007736111292
            ]
           },
           {
            "iteration": 55,
            "learn": [
             1,
             0.0008758420363
            ],
            "passed_time": 1.227956239,
            "remaining_time": 0.9648227592,
            "test": [
             1,
             0.0007736088691
            ]
           },
           {
            "iteration": 56,
            "learn": [
             1,
             0.0008758397775
            ],
            "passed_time": 1.240690801,
            "remaining_time": 0.9359597271,
            "test": [
             1,
             0.0007736043881
            ]
           },
           {
            "iteration": 57,
            "learn": [
             1,
             0.0008758307239
            ],
            "passed_time": 1.24983989,
            "remaining_time": 0.9050564719,
            "test": [
             1,
             0.0007735863603
            ]
           },
           {
            "iteration": 58,
            "learn": [
             1,
             0.0008298762468
            ],
            "passed_time": 1.277785152,
            "remaining_time": 0.8879523941,
            "test": [
             1,
             0.0007128164664
            ]
           },
           {
            "iteration": 59,
            "learn": [
             1,
             0.0008298744093
            ],
            "passed_time": 1.285550654,
            "remaining_time": 0.8570337693,
            "test": [
             1,
             0.0007128126644
            ]
           },
           {
            "iteration": 60,
            "learn": [
             1,
             0.000829862298
            ],
            "passed_time": 1.294687896,
            "remaining_time": 0.827751278,
            "test": [
             1,
             0.0007128056657
            ]
           },
           {
            "iteration": 61,
            "learn": [
             1,
             0.0008291472435
            ],
            "passed_time": 1.304354185,
            "remaining_time": 0.7994428874,
            "test": [
             1,
             0.0007129220383
            ]
           },
           {
            "iteration": 62,
            "learn": [
             1,
             0.0008291442297
            ],
            "passed_time": 1.312472269,
            "remaining_time": 0.7708170471,
            "test": [
             1,
             0.0007129203626
            ]
           },
           {
            "iteration": 63,
            "learn": [
             1,
             0.0008031076373
            ],
            "passed_time": 1.341907182,
            "remaining_time": 0.7548227901,
            "test": [
             1,
             0.0006924585418
            ]
           },
           {
            "iteration": 64,
            "learn": [
             1,
             0.0008030942484
            ],
            "passed_time": 1.349999768,
            "remaining_time": 0.7269229519,
            "test": [
             1,
             0.000692444551
            ]
           },
           {
            "iteration": 65,
            "learn": [
             1,
             0.0008030908108
            ],
            "passed_time": 1.35906271,
            "remaining_time": 0.7001232142,
            "test": [
             1,
             0.0006924344535
            ]
           },
           {
            "iteration": 66,
            "learn": [
             1,
             0.0008030908108
            ],
            "passed_time": 1.388465057,
            "remaining_time": 0.6838708491,
            "test": [
             1,
             0.0006924344535
            ]
           },
           {
            "iteration": 67,
            "learn": [
             1,
             0.0008030892465
            ],
            "passed_time": 1.402233052,
            "remaining_time": 0.6598743772,
            "test": [
             1,
             0.0006924319192
            ]
           },
           {
            "iteration": 68,
            "learn": [
             1,
             0.0008030874524
            ],
            "passed_time": 1.412355385,
            "remaining_time": 0.6345364774,
            "test": [
             1,
             0.0006924294557
            ]
           },
           {
            "iteration": 69,
            "learn": [
             1,
             0.0008030851298
            ],
            "passed_time": 1.422612874,
            "remaining_time": 0.6096912316,
            "test": [
             1,
             0.000692427596
            ]
           },
           {
            "iteration": 70,
            "learn": [
             1,
             0.0008030717888
            ],
            "passed_time": 1.433545711,
            "remaining_time": 0.5855327551,
            "test": [
             1,
             0.0006924137883
            ]
           },
           {
            "iteration": 71,
            "learn": [
             1,
             0.0008030574757
            ],
            "passed_time": 1.444227476,
            "remaining_time": 0.5616440183,
            "test": [
             1,
             0.0006923941595
            ]
           },
           {
            "iteration": 72,
            "learn": [
             1,
             0.0008030444714
            ],
            "passed_time": 1.476925359,
            "remaining_time": 0.5462600641,
            "test": [
             1,
             0.000692373399
            ]
           },
           {
            "iteration": 73,
            "learn": [
             1,
             0.0008030308156
            ],
            "passed_time": 1.507405696,
            "remaining_time": 0.5296290283,
            "test": [
             1,
             0.0006923606513
            ]
           },
           {
            "iteration": 74,
            "learn": [
             1,
             0.0007788106279
            ],
            "passed_time": 1.537827557,
            "remaining_time": 0.5126091857,
            "test": [
             1,
             0.0006549834102
            ]
           },
           {
            "iteration": 75,
            "learn": [
             1,
             0.0007514211644
            ],
            "passed_time": 1.567813617,
            "remaining_time": 0.4950990371,
            "test": [
             1,
             0.0006227338375
            ]
           },
           {
            "iteration": 76,
            "learn": [
             1,
             0.0007514202308
            ],
            "passed_time": 1.582861734,
            "remaining_time": 0.4728028556,
            "test": [
             1,
             0.0006227330969
            ]
           },
           {
            "iteration": 77,
            "learn": [
             1,
             0.0007514127629
            ],
            "passed_time": 1.600627848,
            "remaining_time": 0.4514591367,
            "test": [
             1,
             0.000622727173
            ]
           },
           {
            "iteration": 78,
            "learn": [
             1,
             0.0007514099594
            ],
            "passed_time": 1.612807498,
            "remaining_time": 0.4287209805,
            "test": [
             1,
             0.0006227239376
            ]
           },
           {
            "iteration": 79,
            "learn": [
             1,
             0.0007484960118
            ],
            "passed_time": 1.629242608,
            "remaining_time": 0.4073106519,
            "test": [
             1,
             0.0006214237024
            ]
           },
           {
            "iteration": 80,
            "learn": [
             1,
             0.0007283700715
            ],
            "passed_time": 1.659223502,
            "remaining_time": 0.3892005746,
            "test": [
             1,
             0.0005937330894
            ]
           },
           {
            "iteration": 81,
            "learn": [
             1,
             0.0007113686904
            ],
            "passed_time": 1.692078455,
            "remaining_time": 0.371431856,
            "test": [
             1,
             0.0005692216568
            ]
           },
           {
            "iteration": 82,
            "learn": [
             1,
             0.0007113665829
            ],
            "passed_time": 1.705344824,
            "remaining_time": 0.3492874941,
            "test": [
             1,
             0.0005692199927
            ]
           },
           {
            "iteration": 83,
            "learn": [
             1,
             0.0006961534391
            ],
            "passed_time": 1.73693197,
            "remaining_time": 0.3308441848,
            "test": [
             1,
             0.0005475602465
            ]
           },
           {
            "iteration": 84,
            "learn": [
             1,
             0.0006959808322
            ],
            "passed_time": 1.759351426,
            "remaining_time": 0.310473781,
            "test": [
             1,
             0.0005475465405
            ]
           },
           {
            "iteration": 85,
            "learn": [
             1,
             0.0006822992831
            ],
            "passed_time": 1.78892609,
            "remaining_time": 0.2912205263,
            "test": [
             1,
             0.0005282942972
            ]
           },
           {
            "iteration": 86,
            "learn": [
             1,
             0.0006822915072
            ],
            "passed_time": 1.798160904,
            "remaining_time": 0.2686907098,
            "test": [
             1,
             0.0005282856088
            ]
           },
           {
            "iteration": 87,
            "learn": [
             1,
             0.0006699207915
            ],
            "passed_time": 1.828139463,
            "remaining_time": 0.2492917449,
            "test": [
             1,
             0.0005110761548
            ]
           },
           {
            "iteration": 88,
            "learn": [
             1,
             0.0006657774694
            ],
            "passed_time": 1.85641362,
            "remaining_time": 0.22944438,
            "test": [
             1,
             0.0005103525673
            ]
           },
           {
            "iteration": 89,
            "learn": [
             1,
             0.0006547574747
            ],
            "passed_time": 1.884863691,
            "remaining_time": 0.209429299,
            "test": [
             1,
             0.0004949837994
            ]
           },
           {
            "iteration": 90,
            "learn": [
             1,
             0.000654743634
            ],
            "passed_time": 1.917438099,
            "remaining_time": 0.1896367351,
            "test": [
             1,
             0.000494975063
            ]
           },
           {
            "iteration": 91,
            "learn": [
             1,
             0.0006510818112
            ],
            "passed_time": 1.946914025,
            "remaining_time": 0.1692968717,
            "test": [
             1,
             0.0004943326209
            ]
           },
           {
            "iteration": 92,
            "learn": [
             1,
             0.0006510763025
            ],
            "passed_time": 1.991019622,
            "remaining_time": 0.149861692,
            "test": [
             1,
             0.0004943296428
            ]
           },
           {
            "iteration": 93,
            "learn": [
             1,
             0.0006510601546
            ],
            "passed_time": 2.002300005,
            "remaining_time": 0.1278063833,
            "test": [
             1,
             0.0004943202245
            ]
           },
           {
            "iteration": 94,
            "learn": [
             1,
             0.0006510292323
            ],
            "passed_time": 2.031235258,
            "remaining_time": 0.1069071189,
            "test": [
             1,
             0.0004942996343
            ]
           },
           {
            "iteration": 95,
            "learn": [
             1,
             0.0006510273357
            ],
            "passed_time": 2.039863781,
            "remaining_time": 0.08499432422,
            "test": [
             1,
             0.0004942977732
            ]
           },
           {
            "iteration": 96,
            "learn": [
             1,
             0.0006510265645
            ],
            "passed_time": 2.053644533,
            "remaining_time": 0.06351477936,
            "test": [
             1,
             0.0004942971237
            ]
           },
           {
            "iteration": 97,
            "learn": [
             1,
             0.0006510203963
            ],
            "passed_time": 2.066875113,
            "remaining_time": 0.04218112476,
            "test": [
             1,
             0.0004942919287
            ]
           },
           {
            "iteration": 98,
            "learn": [
             1,
             0.0006509466049
            ],
            "passed_time": 2.095244242,
            "remaining_time": 0.02116408325,
            "test": [
             1,
             0.0004941950173
            ]
           },
           {
            "iteration": 99,
            "learn": [
             1,
             0.0006509450637
            ],
            "passed_time": 2.108279572,
            "remaining_time": 0,
            "test": [
             1,
             0.0004941937205
            ]
           }
          ],
          "meta": {
           "iteration_count": 100,
           "launch_mode": "Train",
           "learn_metrics": [
            {
             "best_value": "Max",
             "name": "Accuracy"
            },
            {
             "best_value": "Min",
             "name": "Logloss"
            }
           ],
           "learn_sets": [
            "learn"
           ],
           "name": "experiment",
           "parameters": "",
           "test_metrics": [
            {
             "best_value": "Max",
             "name": "Accuracy"
            },
            {
             "best_value": "Min",
             "name": "Logloss"
            }
           ],
           "test_sets": [
            "test"
           ]
          }
         },
         "passed_iterations": 99,
         "total_iterations": 100
        },
        "name": "catboost_info",
        "path": "catboost_info"
       }
      },
      "layout": "IPY_MODEL_6e91cae3c0134a969ae09566939a6bfc"
     }
    },
    "8cffcce1b2dc4f918d572e2519147ddc": {
     "model_module": "@jupyter-widgets/base",
     "model_module_version": "1.2.0",
     "model_name": "LayoutModel",
     "state": {
      "_model_module": "@jupyter-widgets/base",
      "_model_module_version": "1.2.0",
      "_model_name": "LayoutModel",
      "_view_count": null,
      "_view_module": "@jupyter-widgets/base",
      "_view_module_version": "1.2.0",
      "_view_name": "LayoutView",
      "align_content": null,
      "align_items": null,
      "align_self": null,
      "border": null,
      "bottom": null,
      "display": null,
      "flex": null,
      "flex_flow": null,
      "grid_area": null,
      "grid_auto_columns": null,
      "grid_auto_flow": null,
      "grid_auto_rows": null,
      "grid_column": null,
      "grid_gap": null,
      "grid_row": null,
      "grid_template_areas": null,
      "grid_template_columns": null,
      "grid_template_rows": null,
      "height": null,
      "justify_content": null,
      "justify_items": null,
      "left": null,
      "margin": null,
      "max_height": null,
      "max_width": null,
      "min_height": null,
      "min_width": null,
      "object_fit": null,
      "object_position": null,
      "order": null,
      "overflow": null,
      "overflow_x": null,
      "overflow_y": null,
      "padding": null,
      "right": null,
      "top": null,
      "visibility": null,
      "width": null
     }
    },
    "a1c457c9176b4aa9ac2d4509595a28bc": {
     "model_module": "@jupyter-widgets/base",
     "model_module_version": "1.2.0",
     "model_name": "LayoutModel",
     "state": {
      "_model_module": "@jupyter-widgets/base",
      "_model_module_version": "1.2.0",
      "_model_name": "LayoutModel",
      "_view_count": null,
      "_view_module": "@jupyter-widgets/base",
      "_view_module_version": "1.2.0",
      "_view_name": "LayoutView",
      "align_content": null,
      "align_items": null,
      "align_self": null,
      "border": null,
      "bottom": null,
      "display": null,
      "flex": null,
      "flex_flow": null,
      "grid_area": null,
      "grid_auto_columns": null,
      "grid_auto_flow": null,
      "grid_auto_rows": null,
      "grid_column": null,
      "grid_gap": null,
      "grid_row": null,
      "grid_template_areas": null,
      "grid_template_columns": null,
      "grid_template_rows": null,
      "height": null,
      "justify_content": null,
      "justify_items": null,
      "left": null,
      "margin": null,
      "max_height": null,
      "max_width": null,
      "min_height": null,
      "min_width": null,
      "object_fit": null,
      "object_position": null,
      "order": null,
      "overflow": null,
      "overflow_x": null,
      "overflow_y": null,
      "padding": null,
      "right": null,
      "top": null,
      "visibility": null,
      "width": null
     }
    },
    "a91d35e6dcb34f0990bd34263169dd94": {
     "model_module": "@jupyter-widgets/base",
     "model_module_version": "1.2.0",
     "model_name": "LayoutModel",
     "state": {
      "_model_module": "@jupyter-widgets/base",
      "_model_module_version": "1.2.0",
      "_model_name": "LayoutModel",
      "_view_count": null,
      "_view_module": "@jupyter-widgets/base",
      "_view_module_version": "1.2.0",
      "_view_name": "LayoutView",
      "align_content": null,
      "align_items": null,
      "align_self": null,
      "border": null,
      "bottom": null,
      "display": null,
      "flex": null,
      "flex_flow": null,
      "grid_area": null,
      "grid_auto_columns": null,
      "grid_auto_flow": null,
      "grid_auto_rows": null,
      "grid_column": null,
      "grid_gap": null,
      "grid_row": null,
      "grid_template_areas": null,
      "grid_template_columns": null,
      "grid_template_rows": null,
      "height": null,
      "justify_content": null,
      "justify_items": null,
      "left": null,
      "margin": null,
      "max_height": null,
      "max_width": null,
      "min_height": null,
      "min_width": null,
      "object_fit": null,
      "object_position": null,
      "order": null,
      "overflow": null,
      "overflow_x": null,
      "overflow_y": null,
      "padding": null,
      "right": null,
      "top": null,
      "visibility": null,
      "width": null
     }
    },
    "b52417ad3de744ecb93c765b9138d35b": {
     "model_module": "@jupyter-widgets/controls",
     "model_module_version": "1.5.0",
     "model_name": "HTMLModel",
     "state": {
      "_dom_classes": [],
      "_model_module": "@jupyter-widgets/controls",
      "_model_module_version": "1.5.0",
      "_model_name": "HTMLModel",
      "_view_count": null,
      "_view_module": "@jupyter-widgets/controls",
      "_view_module_version": "1.5.0",
      "_view_name": "HTMLView",
      "description": "",
      "description_tooltip": null,
      "layout": "IPY_MODEL_d7fc565411c748ab8d55731f19169232",
      "placeholder": "​",
      "style": "IPY_MODEL_b59f888894f64532b7804eeb34860faa",
      "value": "Render HTML: 100%"
     }
    },
    "b59f888894f64532b7804eeb34860faa": {
     "model_module": "@jupyter-widgets/controls",
     "model_module_version": "1.5.0",
     "model_name": "DescriptionStyleModel",
     "state": {
      "_model_module": "@jupyter-widgets/controls",
      "_model_module_version": "1.5.0",
      "_model_name": "DescriptionStyleModel",
      "_view_count": null,
      "_view_module": "@jupyter-widgets/base",
      "_view_module_version": "1.2.0",
      "_view_name": "StyleView",
      "description_width": ""
     }
    },
    "b831571b5cd64480827e4ce60f381edf": {
     "model_module": "@jupyter-widgets/controls",
     "model_module_version": "1.5.0",
     "model_name": "DescriptionStyleModel",
     "state": {
      "_model_module": "@jupyter-widgets/controls",
      "_model_module_version": "1.5.0",
      "_model_name": "DescriptionStyleModel",
      "_view_count": null,
      "_view_module": "@jupyter-widgets/base",
      "_view_module_version": "1.2.0",
      "_view_name": "StyleView",
      "description_width": ""
     }
    },
    "ba0bd40a04564713af8003cb5d9f897d": {
     "model_module": "@jupyter-widgets/controls",
     "model_module_version": "1.5.0",
     "model_name": "DescriptionStyleModel",
     "state": {
      "_model_module": "@jupyter-widgets/controls",
      "_model_module_version": "1.5.0",
      "_model_name": "DescriptionStyleModel",
      "_view_count": null,
      "_view_module": "@jupyter-widgets/base",
      "_view_module_version": "1.2.0",
      "_view_name": "StyleView",
      "description_width": ""
     }
    },
    "bac1401fafc940109afb93bf1c6b43ae": {
     "model_module": "@jupyter-widgets/controls",
     "model_module_version": "1.5.0",
     "model_name": "HTMLModel",
     "state": {
      "_dom_classes": [],
      "_model_module": "@jupyter-widgets/controls",
      "_model_module_version": "1.5.0",
      "_model_name": "HTMLModel",
      "_view_count": null,
      "_view_module": "@jupyter-widgets/controls",
      "_view_module_version": "1.5.0",
      "_view_name": "HTMLView",
      "description": "",
      "description_tooltip": null,
      "layout": "IPY_MODEL_e7326ecfd8ac49eeb2904a89836c3b75",
      "placeholder": "​",
      "style": "IPY_MODEL_b831571b5cd64480827e4ce60f381edf",
      "value": " 1/1 [00:07&lt;00:00,  7.21s/it]"
     }
    },
    "be39d4ac72ed4851984c162e60ba0cde": {
     "model_module": "@jupyter-widgets/controls",
     "model_module_version": "1.5.0",
     "model_name": "HTMLModel",
     "state": {
      "_dom_classes": [],
      "_model_module": "@jupyter-widgets/controls",
      "_model_module_version": "1.5.0",
      "_model_name": "HTMLModel",
      "_view_count": null,
      "_view_module": "@jupyter-widgets/controls",
      "_view_module_version": "1.5.0",
      "_view_name": "HTMLView",
      "description": "",
      "description_tooltip": null,
      "layout": "IPY_MODEL_d358afa99e03475f8e67be5b6f6de743",
      "placeholder": "​",
      "style": "IPY_MODEL_ba0bd40a04564713af8003cb5d9f897d",
      "value": "Generate report structure: 100%"
     }
    },
    "cc9b79dbc5994bf9a89096bd9c98415d": {
     "model_module": "@jupyter-widgets/base",
     "model_module_version": "1.2.0",
     "model_name": "LayoutModel",
     "state": {
      "_model_module": "@jupyter-widgets/base",
      "_model_module_version": "1.2.0",
      "_model_name": "LayoutModel",
      "_view_count": null,
      "_view_module": "@jupyter-widgets/base",
      "_view_module_version": "1.2.0",
      "_view_name": "LayoutView",
      "align_content": null,
      "align_items": null,
      "align_self": null,
      "border": null,
      "bottom": null,
      "display": null,
      "flex": null,
      "flex_flow": null,
      "grid_area": null,
      "grid_auto_columns": null,
      "grid_auto_flow": null,
      "grid_auto_rows": null,
      "grid_column": null,
      "grid_gap": null,
      "grid_row": null,
      "grid_template_areas": null,
      "grid_template_columns": null,
      "grid_template_rows": null,
      "height": null,
      "justify_content": null,
      "justify_items": null,
      "left": null,
      "margin": null,
      "max_height": null,
      "max_width": null,
      "min_height": null,
      "min_width": null,
      "object_fit": null,
      "object_position": null,
      "order": null,
      "overflow": null,
      "overflow_x": null,
      "overflow_y": null,
      "padding": null,
      "right": null,
      "top": null,
      "visibility": null,
      "width": null
     }
    },
    "cce8154d13734567ba504fab4f230b8d": {
     "model_module": "@jupyter-widgets/controls",
     "model_module_version": "1.5.0",
     "model_name": "DescriptionStyleModel",
     "state": {
      "_model_module": "@jupyter-widgets/controls",
      "_model_module_version": "1.5.0",
      "_model_name": "DescriptionStyleModel",
      "_view_count": null,
      "_view_module": "@jupyter-widgets/base",
      "_view_module_version": "1.2.0",
      "_view_name": "StyleView",
      "description_width": ""
     }
    },
    "d358afa99e03475f8e67be5b6f6de743": {
     "model_module": "@jupyter-widgets/base",
     "model_module_version": "1.2.0",
     "model_name": "LayoutModel",
     "state": {
      "_model_module": "@jupyter-widgets/base",
      "_model_module_version": "1.2.0",
      "_model_name": "LayoutModel",
      "_view_count": null,
      "_view_module": "@jupyter-widgets/base",
      "_view_module_version": "1.2.0",
      "_view_name": "LayoutView",
      "align_content": null,
      "align_items": null,
      "align_self": null,
      "border": null,
      "bottom": null,
      "display": null,
      "flex": null,
      "flex_flow": null,
      "grid_area": null,
      "grid_auto_columns": null,
      "grid_auto_flow": null,
      "grid_auto_rows": null,
      "grid_column": null,
      "grid_gap": null,
      "grid_row": null,
      "grid_template_areas": null,
      "grid_template_columns": null,
      "grid_template_rows": null,
      "height": null,
      "justify_content": null,
      "justify_items": null,
      "left": null,
      "margin": null,
      "max_height": null,
      "max_width": null,
      "min_height": null,
      "min_width": null,
      "object_fit": null,
      "object_position": null,
      "order": null,
      "overflow": null,
      "overflow_x": null,
      "overflow_y": null,
      "padding": null,
      "right": null,
      "top": null,
      "visibility": null,
      "width": null
     }
    },
    "d7fc565411c748ab8d55731f19169232": {
     "model_module": "@jupyter-widgets/base",
     "model_module_version": "1.2.0",
     "model_name": "LayoutModel",
     "state": {
      "_model_module": "@jupyter-widgets/base",
      "_model_module_version": "1.2.0",
      "_model_name": "LayoutModel",
      "_view_count": null,
      "_view_module": "@jupyter-widgets/base",
      "_view_module_version": "1.2.0",
      "_view_name": "LayoutView",
      "align_content": null,
      "align_items": null,
      "align_self": null,
      "border": null,
      "bottom": null,
      "display": null,
      "flex": null,
      "flex_flow": null,
      "grid_area": null,
      "grid_auto_columns": null,
      "grid_auto_flow": null,
      "grid_auto_rows": null,
      "grid_column": null,
      "grid_gap": null,
      "grid_row": null,
      "grid_template_areas": null,
      "grid_template_columns": null,
      "grid_template_rows": null,
      "height": null,
      "justify_content": null,
      "justify_items": null,
      "left": null,
      "margin": null,
      "max_height": null,
      "max_width": null,
      "min_height": null,
      "min_width": null,
      "object_fit": null,
      "object_position": null,
      "order": null,
      "overflow": null,
      "overflow_x": null,
      "overflow_y": null,
      "padding": null,
      "right": null,
      "top": null,
      "visibility": null,
      "width": null
     }
    },
    "db870f624a8d43c58891a83a997cfe00": {
     "model_module": "@jupyter-widgets/controls",
     "model_module_version": "1.5.0",
     "model_name": "HTMLModel",
     "state": {
      "_dom_classes": [],
      "_model_module": "@jupyter-widgets/controls",
      "_model_module_version": "1.5.0",
      "_model_name": "HTMLModel",
      "_view_count": null,
      "_view_module": "@jupyter-widgets/controls",
      "_view_module_version": "1.5.0",
      "_view_name": "HTMLView",
      "description": "",
      "description_tooltip": null,
      "layout": "IPY_MODEL_f94d171190df45809abf06ba5147c4e0",
      "placeholder": "​",
      "style": "IPY_MODEL_f8a030f06aa641959ff5a2727bb7adf1",
      "value": " 1/1 [00:01&lt;00:00,  1.03s/it]"
     }
    },
    "e7326ecfd8ac49eeb2904a89836c3b75": {
     "model_module": "@jupyter-widgets/base",
     "model_module_version": "1.2.0",
     "model_name": "LayoutModel",
     "state": {
      "_model_module": "@jupyter-widgets/base",
      "_model_module_version": "1.2.0",
      "_model_name": "LayoutModel",
      "_view_count": null,
      "_view_module": "@jupyter-widgets/base",
      "_view_module_version": "1.2.0",
      "_view_name": "LayoutView",
      "align_content": null,
      "align_items": null,
      "align_self": null,
      "border": null,
      "bottom": null,
      "display": null,
      "flex": null,
      "flex_flow": null,
      "grid_area": null,
      "grid_auto_columns": null,
      "grid_auto_flow": null,
      "grid_auto_rows": null,
      "grid_column": null,
      "grid_gap": null,
      "grid_row": null,
      "grid_template_areas": null,
      "grid_template_columns": null,
      "grid_template_rows": null,
      "height": null,
      "justify_content": null,
      "justify_items": null,
      "left": null,
      "margin": null,
      "max_height": null,
      "max_width": null,
      "min_height": null,
      "min_width": null,
      "object_fit": null,
      "object_position": null,
      "order": null,
      "overflow": null,
      "overflow_x": null,
      "overflow_y": null,
      "padding": null,
      "right": null,
      "top": null,
      "visibility": null,
      "width": null
     }
    },
    "e815b00a8fe849bb8fb5caf6bc7c8246": {
     "model_module": "@jupyter-widgets/controls",
     "model_module_version": "1.5.0",
     "model_name": "ProgressStyleModel",
     "state": {
      "_model_module": "@jupyter-widgets/controls",
      "_model_module_version": "1.5.0",
      "_model_name": "ProgressStyleModel",
      "_view_count": null,
      "_view_module": "@jupyter-widgets/base",
      "_view_module_version": "1.2.0",
      "_view_name": "StyleView",
      "bar_color": null,
      "description_width": ""
     }
    },
    "e8ded597e2374c54bce8aa8cf9752fa9": {
     "model_module": "@jupyter-widgets/controls",
     "model_module_version": "1.5.0",
     "model_name": "DescriptionStyleModel",
     "state": {
      "_model_module": "@jupyter-widgets/controls",
      "_model_module_version": "1.5.0",
      "_model_name": "DescriptionStyleModel",
      "_view_count": null,
      "_view_module": "@jupyter-widgets/base",
      "_view_module_version": "1.2.0",
      "_view_name": "StyleView",
      "description_width": ""
     }
    },
    "f26a529bc839415189a6d1679feaa23f": {
     "model_module": "@jupyter-widgets/base",
     "model_module_version": "1.2.0",
     "model_name": "LayoutModel",
     "state": {
      "_model_module": "@jupyter-widgets/base",
      "_model_module_version": "1.2.0",
      "_model_name": "LayoutModel",
      "_view_count": null,
      "_view_module": "@jupyter-widgets/base",
      "_view_module_version": "1.2.0",
      "_view_name": "LayoutView",
      "align_content": null,
      "align_items": null,
      "align_self": null,
      "border": null,
      "bottom": null,
      "display": null,
      "flex": null,
      "flex_flow": null,
      "grid_area": null,
      "grid_auto_columns": null,
      "grid_auto_flow": null,
      "grid_auto_rows": null,
      "grid_column": null,
      "grid_gap": null,
      "grid_row": null,
      "grid_template_areas": null,
      "grid_template_columns": null,
      "grid_template_rows": null,
      "height": null,
      "justify_content": null,
      "justify_items": null,
      "left": null,
      "margin": null,
      "max_height": null,
      "max_width": null,
      "min_height": null,
      "min_width": null,
      "object_fit": null,
      "object_position": null,
      "order": null,
      "overflow": null,
      "overflow_x": null,
      "overflow_y": null,
      "padding": null,
      "right": null,
      "top": null,
      "visibility": null,
      "width": null
     }
    },
    "f6b43963ea14400e824794e341fda7d5": {
     "model_module": "@jupyter-widgets/controls",
     "model_module_version": "1.5.0",
     "model_name": "HBoxModel",
     "state": {
      "_dom_classes": [],
      "_model_module": "@jupyter-widgets/controls",
      "_model_module_version": "1.5.0",
      "_model_name": "HBoxModel",
      "_view_count": null,
      "_view_module": "@jupyter-widgets/controls",
      "_view_module_version": "1.5.0",
      "_view_name": "HBoxView",
      "box_style": "",
      "children": [
       "IPY_MODEL_be39d4ac72ed4851984c162e60ba0cde",
       "IPY_MODEL_399117699f324713af22cc47a0ec1993",
       "IPY_MODEL_bac1401fafc940109afb93bf1c6b43ae"
      ],
      "layout": "IPY_MODEL_cc9b79dbc5994bf9a89096bd9c98415d"
     }
    },
    "f6d09cd4302c4749bb323ee1e0dbc4c4": {
     "model_module": "@jupyter-widgets/controls",
     "model_module_version": "1.5.0",
     "model_name": "ProgressStyleModel",
     "state": {
      "_model_module": "@jupyter-widgets/controls",
      "_model_module_version": "1.5.0",
      "_model_name": "ProgressStyleModel",
      "_view_count": null,
      "_view_module": "@jupyter-widgets/base",
      "_view_module_version": "1.2.0",
      "_view_name": "StyleView",
      "bar_color": null,
      "description_width": ""
     }
    },
    "f8250d94b3cb4e7d8bff9a4d2fea4da2": {
     "model_module": "@jupyter-widgets/controls",
     "model_module_version": "1.5.0",
     "model_name": "ProgressStyleModel",
     "state": {
      "_model_module": "@jupyter-widgets/controls",
      "_model_module_version": "1.5.0",
      "_model_name": "ProgressStyleModel",
      "_view_count": null,
      "_view_module": "@jupyter-widgets/base",
      "_view_module_version": "1.2.0",
      "_view_name": "StyleView",
      "bar_color": null,
      "description_width": ""
     }
    },
    "f8a030f06aa641959ff5a2727bb7adf1": {
     "model_module": "@jupyter-widgets/controls",
     "model_module_version": "1.5.0",
     "model_name": "DescriptionStyleModel",
     "state": {
      "_model_module": "@jupyter-widgets/controls",
      "_model_module_version": "1.5.0",
      "_model_name": "DescriptionStyleModel",
      "_view_count": null,
      "_view_module": "@jupyter-widgets/base",
      "_view_module_version": "1.2.0",
      "_view_name": "StyleView",
      "description_width": ""
     }
    },
    "f94d171190df45809abf06ba5147c4e0": {
     "model_module": "@jupyter-widgets/base",
     "model_module_version": "1.2.0",
     "model_name": "LayoutModel",
     "state": {
      "_model_module": "@jupyter-widgets/base",
      "_model_module_version": "1.2.0",
      "_model_name": "LayoutModel",
      "_view_count": null,
      "_view_module": "@jupyter-widgets/base",
      "_view_module_version": "1.2.0",
      "_view_name": "LayoutView",
      "align_content": null,
      "align_items": null,
      "align_self": null,
      "border": null,
      "bottom": null,
      "display": null,
      "flex": null,
      "flex_flow": null,
      "grid_area": null,
      "grid_auto_columns": null,
      "grid_auto_flow": null,
      "grid_auto_rows": null,
      "grid_column": null,
      "grid_gap": null,
      "grid_row": null,
      "grid_template_areas": null,
      "grid_template_columns": null,
      "grid_template_rows": null,
      "height": null,
      "justify_content": null,
      "justify_items": null,
      "left": null,
      "margin": null,
      "max_height": null,
      "max_width": null,
      "min_height": null,
      "min_width": null,
      "object_fit": null,
      "object_position": null,
      "order": null,
      "overflow": null,
      "overflow_x": null,
      "overflow_y": null,
      "padding": null,
      "right": null,
      "top": null,
      "visibility": null,
      "width": null
     }
    },
    "fa74f2fef1a0448e8654b06d4467f2be": {
     "model_module": "@jupyter-widgets/controls",
     "model_module_version": "1.5.0",
     "model_name": "HBoxModel",
     "state": {
      "_dom_classes": [],
      "_model_module": "@jupyter-widgets/controls",
      "_model_module_version": "1.5.0",
      "_model_name": "HBoxModel",
      "_view_count": null,
      "_view_module": "@jupyter-widgets/controls",
      "_view_module_version": "1.5.0",
      "_view_name": "HBoxView",
      "box_style": "",
      "children": [
       "IPY_MODEL_b52417ad3de744ecb93c765b9138d35b",
       "IPY_MODEL_4871906bf28a4571a8285d5da71308f3",
       "IPY_MODEL_db870f624a8d43c58891a83a997cfe00"
      ],
      "layout": "IPY_MODEL_66a26d26735347ea872dbf91b4a28278"
     }
    }
   }
  }
 },
 "nbformat": 4,
 "nbformat_minor": 4
}
